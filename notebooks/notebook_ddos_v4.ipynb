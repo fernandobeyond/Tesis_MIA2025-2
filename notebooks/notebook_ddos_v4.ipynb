{
 "cells": [
  {
   "cell_type": "markdown",
   "id": "8e6389b7",
   "metadata": {},
   "source": [
    "## Importaciones y Configuración Inicial"
   ]
  },
  {
   "cell_type": "code",
   "execution_count": 1,
   "id": "26fdd5b5",
   "metadata": {},
   "outputs": [
    {
     "name": "stderr",
     "output_type": "stream",
     "text": [
      "2025-10-23 20:49:18.757320: E external/local_xla/xla/stream_executor/cuda/cuda_fft.cc:485] Unable to register cuFFT factory: Attempting to register factory for plugin cuFFT when one has already been registered\n",
      "2025-10-23 20:49:18.771466: E external/local_xla/xla/stream_executor/cuda/cuda_dnn.cc:8454] Unable to register cuDNN factory: Attempting to register factory for plugin cuDNN when one has already been registered\n",
      "2025-10-23 20:49:18.775596: E external/local_xla/xla/stream_executor/cuda/cuda_blas.cc:1452] Unable to register cuBLAS factory: Attempting to register factory for plugin cuBLAS when one has already been registered\n",
      "2025-10-23 20:49:18.785639: I tensorflow/core/platform/cpu_feature_guard.cc:210] This TensorFlow binary is optimized to use available CPU instructions in performance-critical operations.\n",
      "To enable the following instructions: AVX2 FMA, in other operations, rebuild TensorFlow with the appropriate compiler flags.\n",
      "2025-10-23 20:49:19.516595: W tensorflow/compiler/tf2tensorrt/utils/py_utils.cc:38] TF-TRT Warning: Could not find TensorRT\n"
     ]
    }
   ],
   "source": [
    "import numpy as np\n",
    "import pandas as pd\n",
    "import time\n",
    "from pathlib import Path\n",
    "import joblib\n",
    "import matplotlib.pyplot as plt\n",
    "import seaborn as sns\n",
    "\n",
    "from sklearn.model_selection import train_test_split\n",
    "from sklearn.preprocessing import StandardScaler\n",
    "from sklearn.linear_model import LogisticRegression\n",
    "from sklearn.metrics import (\n",
    "    classification_report, confusion_matrix, roc_auc_score, \n",
    "    average_precision_score, precision_recall_curve\n",
    ")\n",
    "from sklearn.utils.class_weight import compute_class_weight\n",
    "\n",
    "import tensorflow as tf\n",
    "from tensorflow.keras import layers, models, callbacks, optimizers\n",
    "from tensorflow.keras.models import Sequential\n",
    "from tensorflow.keras.layers import Dense, Dropout, Conv1D, MaxPooling1D, LSTM\n",
    "\n",
    "sns.set_style(\"whitegrid\")\n",
    "plt.rcParams['figure.figsize'] = (10, 6)"
   ]
  },
  {
   "cell_type": "markdown",
   "id": "486f2c90",
   "metadata": {},
   "source": [
    "## CARGA Y PREPARACIÓN DE DATOS"
   ]
  },
  {
   "cell_type": "code",
   "execution_count": null,
   "id": "25b917e0",
   "metadata": {},
   "outputs": [
    {
     "ename": "",
     "evalue": "",
     "output_type": "error",
     "traceback": [
      "\u001b[1;31mEl kernel se bloqueó al ejecutar código en la celda actual o en una celda anterior. \n",
      "\u001b[1;31mRevise el código de las celdas para identificar una posible causa del error. \n",
      "\u001b[1;31mHaga clic <a href='https://aka.ms/vscodeJupyterKernelCrash'>aquí</a> para obtener más información. \n",
      "\u001b[1;31mVea Jupyter <a href='command:jupyter.viewOutput'>log</a> para obtener más detalles."
     ]
    }
   ],
   "source": [
    "def load_cleaned_dataset():\n",
    "    CLEANED_DATASET_PATH = \"../data/processed/cleaned_ddos_dataset.csv\"\n",
    "    \n",
    "    try:\n",
    "        df_cleaned = pd.read_csv(CLEANED_DATASET_PATH)\n",
    "        return df_cleaned\n",
    "    except FileNotFoundError:\n",
    "        exit()\n",
    "    except Exception as e:\n",
    "        exit()\n",
    "\n",
    "# Carga y preparación de datos\n",
    "df = load_cleaned_dataset()"
   ]
  },
  {
   "cell_type": "code",
   "execution_count": null,
   "id": "e801447d",
   "metadata": {},
   "outputs": [],
   "source": [
    "if 'y' not in df.columns:\n",
    "    print(\"Columna objetivo 'y' no encontrada\")\n",
    "    exit()"
   ]
  },
  {
   "cell_type": "code",
   "execution_count": null,
   "id": "fbc989ce",
   "metadata": {},
   "outputs": [
    {
     "ename": "KeyError",
     "evalue": "'y'",
     "output_type": "error",
     "traceback": [
      "\u001b[0;31m---------------------------------------------------------------------------\u001b[0m",
      "\u001b[0;31mKeyError\u001b[0m                                  Traceback (most recent call last)",
      "File \u001b[0;32m~/.local/lib/python3.10/site-packages/pandas/core/indexes/base.py:3805\u001b[0m, in \u001b[0;36mIndex.get_loc\u001b[0;34m(self, key)\u001b[0m\n\u001b[1;32m   3804\u001b[0m \u001b[38;5;28;01mtry\u001b[39;00m:\n\u001b[0;32m-> 3805\u001b[0m     \u001b[38;5;28;01mreturn\u001b[39;00m \u001b[38;5;28;43mself\u001b[39;49m\u001b[38;5;241;43m.\u001b[39;49m\u001b[43m_engine\u001b[49m\u001b[38;5;241;43m.\u001b[39;49m\u001b[43mget_loc\u001b[49m\u001b[43m(\u001b[49m\u001b[43mcasted_key\u001b[49m\u001b[43m)\u001b[49m\n\u001b[1;32m   3806\u001b[0m \u001b[38;5;28;01mexcept\u001b[39;00m \u001b[38;5;167;01mKeyError\u001b[39;00m \u001b[38;5;28;01mas\u001b[39;00m err:\n",
      "File \u001b[0;32mindex.pyx:167\u001b[0m, in \u001b[0;36mpandas._libs.index.IndexEngine.get_loc\u001b[0;34m()\u001b[0m\n",
      "File \u001b[0;32mindex.pyx:196\u001b[0m, in \u001b[0;36mpandas._libs.index.IndexEngine.get_loc\u001b[0;34m()\u001b[0m\n",
      "File \u001b[0;32mpandas/_libs/hashtable_class_helper.pxi:7081\u001b[0m, in \u001b[0;36mpandas._libs.hashtable.PyObjectHashTable.get_item\u001b[0;34m()\u001b[0m\n",
      "File \u001b[0;32mpandas/_libs/hashtable_class_helper.pxi:7089\u001b[0m, in \u001b[0;36mpandas._libs.hashtable.PyObjectHashTable.get_item\u001b[0;34m()\u001b[0m\n",
      "\u001b[0;31mKeyError\u001b[0m: 'y'",
      "\nThe above exception was the direct cause of the following exception:\n",
      "\u001b[0;31mKeyError\u001b[0m                                  Traceback (most recent call last)",
      "Cell \u001b[0;32mIn[37], line 1\u001b[0m\n\u001b[0;32m----> 1\u001b[0m X, y, feature_cols \u001b[38;5;241m=\u001b[39m \u001b[43mload_and_prepare_data\u001b[49m\u001b[43m(\u001b[49m\u001b[43m)\u001b[49m\n\u001b[1;32m      2\u001b[0m \u001b[38;5;28mprint\u001b[39m(\u001b[38;5;124mf\u001b[39m\u001b[38;5;124m\"\u001b[39m\u001b[38;5;130;01m\\n\u001b[39;00m\u001b[38;5;124mDataset: \u001b[39m\u001b[38;5;132;01m{\u001b[39;00mX\u001b[38;5;241m.\u001b[39mshape[\u001b[38;5;241m0\u001b[39m]\u001b[38;5;132;01m:\u001b[39;00m\u001b[38;5;124m,\u001b[39m\u001b[38;5;132;01m}\u001b[39;00m\u001b[38;5;124m muestras, \u001b[39m\u001b[38;5;132;01m{\u001b[39;00mX\u001b[38;5;241m.\u001b[39mshape[\u001b[38;5;241m1\u001b[39m]\u001b[38;5;132;01m}\u001b[39;00m\u001b[38;5;124m características\u001b[39m\u001b[38;5;124m\"\u001b[39m)\n\u001b[1;32m      3\u001b[0m \u001b[38;5;28mprint\u001b[39m(\u001b[38;5;124mf\u001b[39m\u001b[38;5;124m\"\u001b[39m\u001b[38;5;124mDistribución de clases: \u001b[39m\u001b[38;5;132;01m{\u001b[39;00mnp\u001b[38;5;241m.\u001b[39mbincount(y)\u001b[38;5;132;01m}\u001b[39;00m\u001b[38;5;124m (BENIGN: \u001b[39m\u001b[38;5;132;01m{\u001b[39;00mnp\u001b[38;5;241m.\u001b[39mbincount(y)[\u001b[38;5;241m0\u001b[39m]\u001b[38;5;132;01m:\u001b[39;00m\u001b[38;5;124m,\u001b[39m\u001b[38;5;132;01m}\u001b[39;00m\u001b[38;5;124m, ATTACK: \u001b[39m\u001b[38;5;132;01m{\u001b[39;00mnp\u001b[38;5;241m.\u001b[39mbincount(y)[\u001b[38;5;241m1\u001b[39m]\u001b[38;5;132;01m:\u001b[39;00m\u001b[38;5;124m,\u001b[39m\u001b[38;5;132;01m}\u001b[39;00m\u001b[38;5;124m)\u001b[39m\u001b[38;5;124m\"\u001b[39m)\n",
      "Cell \u001b[0;32mIn[36], line 8\u001b[0m, in \u001b[0;36mload_and_prepare_data\u001b[0;34m()\u001b[0m\n\u001b[1;32m      6\u001b[0m feature_cols \u001b[38;5;241m=\u001b[39m [c \u001b[38;5;28;01mfor\u001b[39;00m c \u001b[38;5;129;01min\u001b[39;00m df\u001b[38;5;241m.\u001b[39mcolumns \u001b[38;5;28;01mif\u001b[39;00m c \u001b[38;5;129;01mnot\u001b[39;00m \u001b[38;5;129;01min\u001b[39;00m [\u001b[38;5;124m\"\u001b[39m\u001b[38;5;124mAttack_Label\u001b[39m\u001b[38;5;124m\"\u001b[39m, \u001b[38;5;124m\"\u001b[39m\u001b[38;5;124my\u001b[39m\u001b[38;5;124m\"\u001b[39m]]\n\u001b[1;32m      7\u001b[0m X \u001b[38;5;241m=\u001b[39m df[feature_cols]\u001b[38;5;241m.\u001b[39mcopy()\n\u001b[0;32m----> 8\u001b[0m y \u001b[38;5;241m=\u001b[39m \u001b[43mdf\u001b[49m\u001b[43m[\u001b[49m\u001b[38;5;124;43m\"\u001b[39;49m\u001b[38;5;124;43my\u001b[39;49m\u001b[38;5;124;43m\"\u001b[39;49m\u001b[43m]\u001b[49m\u001b[38;5;241m.\u001b[39mvalues\u001b[38;5;241m.\u001b[39mastype(\u001b[38;5;28mint\u001b[39m)\n\u001b[1;32m     10\u001b[0m \u001b[38;5;28;01mreturn\u001b[39;00m X\u001b[38;5;241m.\u001b[39mvalues, y, feature_cols\n",
      "File \u001b[0;32m~/.local/lib/python3.10/site-packages/pandas/core/frame.py:4102\u001b[0m, in \u001b[0;36mDataFrame.__getitem__\u001b[0;34m(self, key)\u001b[0m\n\u001b[1;32m   4100\u001b[0m \u001b[38;5;28;01mif\u001b[39;00m \u001b[38;5;28mself\u001b[39m\u001b[38;5;241m.\u001b[39mcolumns\u001b[38;5;241m.\u001b[39mnlevels \u001b[38;5;241m>\u001b[39m \u001b[38;5;241m1\u001b[39m:\n\u001b[1;32m   4101\u001b[0m     \u001b[38;5;28;01mreturn\u001b[39;00m \u001b[38;5;28mself\u001b[39m\u001b[38;5;241m.\u001b[39m_getitem_multilevel(key)\n\u001b[0;32m-> 4102\u001b[0m indexer \u001b[38;5;241m=\u001b[39m \u001b[38;5;28;43mself\u001b[39;49m\u001b[38;5;241;43m.\u001b[39;49m\u001b[43mcolumns\u001b[49m\u001b[38;5;241;43m.\u001b[39;49m\u001b[43mget_loc\u001b[49m\u001b[43m(\u001b[49m\u001b[43mkey\u001b[49m\u001b[43m)\u001b[49m\n\u001b[1;32m   4103\u001b[0m \u001b[38;5;28;01mif\u001b[39;00m is_integer(indexer):\n\u001b[1;32m   4104\u001b[0m     indexer \u001b[38;5;241m=\u001b[39m [indexer]\n",
      "File \u001b[0;32m~/.local/lib/python3.10/site-packages/pandas/core/indexes/base.py:3812\u001b[0m, in \u001b[0;36mIndex.get_loc\u001b[0;34m(self, key)\u001b[0m\n\u001b[1;32m   3807\u001b[0m     \u001b[38;5;28;01mif\u001b[39;00m \u001b[38;5;28misinstance\u001b[39m(casted_key, \u001b[38;5;28mslice\u001b[39m) \u001b[38;5;129;01mor\u001b[39;00m (\n\u001b[1;32m   3808\u001b[0m         \u001b[38;5;28misinstance\u001b[39m(casted_key, abc\u001b[38;5;241m.\u001b[39mIterable)\n\u001b[1;32m   3809\u001b[0m         \u001b[38;5;129;01mand\u001b[39;00m \u001b[38;5;28many\u001b[39m(\u001b[38;5;28misinstance\u001b[39m(x, \u001b[38;5;28mslice\u001b[39m) \u001b[38;5;28;01mfor\u001b[39;00m x \u001b[38;5;129;01min\u001b[39;00m casted_key)\n\u001b[1;32m   3810\u001b[0m     ):\n\u001b[1;32m   3811\u001b[0m         \u001b[38;5;28;01mraise\u001b[39;00m InvalidIndexError(key)\n\u001b[0;32m-> 3812\u001b[0m     \u001b[38;5;28;01mraise\u001b[39;00m \u001b[38;5;167;01mKeyError\u001b[39;00m(key) \u001b[38;5;28;01mfrom\u001b[39;00m \u001b[38;5;21;01merr\u001b[39;00m\n\u001b[1;32m   3813\u001b[0m \u001b[38;5;28;01mexcept\u001b[39;00m \u001b[38;5;167;01mTypeError\u001b[39;00m:\n\u001b[1;32m   3814\u001b[0m     \u001b[38;5;66;03m# If we have a listlike key, _check_indexing_error will raise\u001b[39;00m\n\u001b[1;32m   3815\u001b[0m     \u001b[38;5;66;03m#  InvalidIndexError. Otherwise we fall through and re-raise\u001b[39;00m\n\u001b[1;32m   3816\u001b[0m     \u001b[38;5;66;03m#  the TypeError.\u001b[39;00m\n\u001b[1;32m   3817\u001b[0m     \u001b[38;5;28mself\u001b[39m\u001b[38;5;241m.\u001b[39m_check_indexing_error(key)\n",
      "\u001b[0;31mKeyError\u001b[0m: 'y'"
     ]
    }
   ],
   "source": [
    "# Separar características y objetivo\n",
    "feature_cols = [col for col in df.columns if col != 'y']\n",
    "X = df[feature_cols].values\n",
    "y = df['y'].values.astype(int)\n",
    "\n",
    "print(f\"Características: {X.shape[1]} variables\")\n",
    "print(f\"Distribución de clases: {np.bincount(y)}\")\n",
    "print(f\"   - BENIGN: {np.bincount(y)[0]:,} muestras\")\n",
    "print(f\"   - ATTACK: {np.bincount(y)[1]:,} muestras\")"
   ]
  },
  {
   "cell_type": "markdown",
   "id": "32def812",
   "metadata": {},
   "source": [
    "### División y Escalado de Datos"
   ]
  },
  {
   "cell_type": "code",
   "execution_count": null,
   "id": "75b19d75",
   "metadata": {},
   "outputs": [],
   "source": [
    "# División estratificada para mantener la proporción de clases\n",
    "X_train_raw, X_temp_raw, y_train, y_temp = train_test_split(\n",
    "    X, y, test_size=0.30, random_state=42, stratify=y\n",
    ")\n",
    "X_val_raw, X_test_raw, y_val, y_test = train_test_split(\n",
    "    X_temp_raw, y_temp, test_size=0.50, random_state=42, stratify=y_temp\n",
    ")"
   ]
  },
  {
   "cell_type": "code",
   "execution_count": null,
   "id": "2e92dbbf",
   "metadata": {},
   "outputs": [
    {
     "name": "stdout",
     "output_type": "stream",
     "text": [
      "Train: (1869335, 19), Val: (400572, 19), Test: (400572, 19)\n"
     ]
    }
   ],
   "source": [
    "# Escalado sin leakage\n",
    "scaler = StandardScaler()\n",
    "X_train = scaler.fit_transform(X_train_raw)\n",
    "X_val = scaler.transform(X_val_raw)\n",
    "X_test = scaler.transform(X_test_raw)\n",
    "\n",
    "input_dim = X_train.shape[1]\n",
    "\n",
    "print(f\"Datos divididos y escalados:\")\n",
    "print(f\"   Train: {X_train.shape[0]:,} muestras\")\n",
    "print(f\"   Val:   {X_val.shape[0]:,} muestras\")\n",
    "print(f\"   Test:  {X_test.shape[0]:,} muestras\")"
   ]
  },
  {
   "cell_type": "markdown",
   "id": "cca7ab25",
   "metadata": {},
   "source": [
    "## LÍNEA BASE (BASELINE)"
   ]
  },
  {
   "cell_type": "code",
   "execution_count": null,
   "id": "78a5a507",
   "metadata": {},
   "outputs": [],
   "source": [
    "# Entrenamiento del modelo baseline\n",
    "start_time = time.time()\n",
    "baseline_model = LogisticRegression(\n",
    "    random_state=42,\n",
    "    class_weight='balanced',\n",
    "    solver='lbfgs',\n",
    "    max_iter=1000,\n",
    "    n_jobs=-1\n",
    ")\n",
    "baseline_model.fit(X_train, y_train)\n",
    "train_time_base = time.time() - start_time"
   ]
  },
  {
   "cell_type": "code",
   "execution_count": null,
   "id": "12fe8816",
   "metadata": {},
   "outputs": [],
   "source": [
    "# Evaluación\n",
    "start_inf = time.time()\n",
    "y_prob_base = baseline_model.predict_proba(X_test)[:, 1]\n",
    "inf_time_base = (time.time() - start_inf) / len(X_test)\n",
    "y_pred_base = (y_prob_base >= 0.5).astype(int)"
   ]
  },
  {
   "cell_type": "code",
   "execution_count": null,
   "id": "15056d61",
   "metadata": {},
   "outputs": [
    {
     "name": "stdout",
     "output_type": "stream",
     "text": [
      "--- Resultados Línea Base (Regresión Logística) ---\n",
      "              precision    recall  f1-score   support\n",
      "\n",
      "      BENIGN     0.8647    0.6408    0.7361    316848\n",
      "      ATTACK     0.3135    0.6206    0.4165     83724\n",
      "\n",
      "    accuracy                         0.6366    400572\n",
      "   macro avg     0.5891    0.6307    0.5763    400572\n",
      "weighted avg     0.7495    0.6366    0.6693    400572\n",
      "\n"
     ]
    }
   ],
   "source": [
    "# Métricas\n",
    "report_base = classification_report(y_test, y_pred_base, output_dict=True, zero_division=0)\n",
    "roc_auc_base = roc_auc_score(y_test, y_prob_base)\n",
    "pr_auc_base = average_precision_score(y_test, y_prob_base)\n",
    "precision_base, recall_base, _ = precision_recall_curve(y_test, y_prob_base)\n",
    "\n",
    "print(\"✅ Línea Base completada\")\n",
    "print(f\"   ⏱️  Tiempo entrenamiento: {train_time_base:.1f}s\")\n",
    "print(f\"   ⚡ Latencia inferencia: {inf_time_base*1e6:.1f}µs/muestra\")"
   ]
  },
  {
   "cell_type": "markdown",
   "id": "7fd6bfc1",
   "metadata": {},
   "source": [
    "## EXPERIMENTOS A/B (VARIANTE 1)"
   ]
  },
  {
   "cell_type": "code",
   "execution_count": null,
   "id": "65491c4d",
   "metadata": {},
   "outputs": [],
   "source": [
    "# Configuración común\n",
    "class_weights = compute_class_weight('balanced', classes=np.unique(y_train), y=y_train)\n",
    "class_weight_dict = {0: class_weights[0], 1: class_weights[1]}"
   ]
  },
  {
   "cell_type": "code",
   "execution_count": null,
   "id": "61d84e6b",
   "metadata": {},
   "outputs": [],
   "source": [
    "# Callbacks\n",
    "early_stop = callbacks.EarlyStopping(patience=10, restore_best_weights=True)\n",
    "reduce_lr = callbacks.ReduceLROnPlateau(patience=5, factor=0.5, verbose=0)"
   ]
  },
  {
   "cell_type": "markdown",
   "id": "b78fc876",
   "metadata": {},
   "source": [
    "### VARIANTE 1: AUTOENCODER + CNN-LSTM"
   ]
  },
  {
   "cell_type": "code",
   "execution_count": null,
   "id": "66c72fa1",
   "metadata": {},
   "outputs": [
    {
     "name": "stderr",
     "output_type": "stream",
     "text": [
      "2025-10-23 19:36:17.248915: E external/local_xla/xla/stream_executor/cuda/cuda_driver.cc:266] failed call to cuInit: CUDA_ERROR_NO_DEVICE: no CUDA-capable device is detected\n"
     ]
    }
   ],
   "source": [
    "# Autoencoder\n",
    "def build_autoencoder(input_dim, encoding_dim=32):\n",
    "    \"\"\"Construye autoencoder para reducción dimensional\"\"\"\n",
    "    inputs = layers.Input(shape=(input_dim,))\n",
    "    \n",
    "    # Encoder\n",
    "    encoded = layers.Dense(256, activation='relu')(inputs)\n",
    "    encoded = layers.Dense(128, activation='relu')(encoded)\n",
    "    encoded = layers.Dense(64, activation='relu')(encoded)\n",
    "    bottleneck = layers.Dense(encoding_dim, activation='relu', name='bottleneck')(encoded)\n",
    "    \n",
    "    # Decoder\n",
    "    decoded = layers.Dense(64, activation='relu')(bottleneck)\n",
    "    decoded = layers.Dense(128, activation='relu')(decoded)\n",
    "    decoded = layers.Dense(256, activation='relu')(decoded)\n",
    "    decoded = layers.Dense(input_dim, activation='linear')(decoded)\n",
    "    \n",
    "    autoencoder = models.Model(inputs, decoded)\n",
    "    autoencoder.compile(optimizer='adam', loss='mse')\n",
    "    return autoencoder"
   ]
  },
  {
   "cell_type": "code",
   "execution_count": null,
   "id": "f9f9a4da",
   "metadata": {},
   "outputs": [
    {
     "name": "stdout",
     "output_type": "stream",
     "text": [
      "Epoch 1/100\n",
      "\u001b[1m3652/3652\u001b[0m \u001b[32m━━━━━━━━━━━━━━━━━━━━\u001b[0m\u001b[37m\u001b[0m \u001b[1m21s\u001b[0m 4ms/step - loss: 0.0425 - val_loss: 0.0018\n",
      "Epoch 2/100\n",
      "\u001b[1m3652/3652\u001b[0m \u001b[32m━━━━━━━━━━━━━━━━━━━━\u001b[0m\u001b[37m\u001b[0m \u001b[1m13s\u001b[0m 4ms/step - loss: 0.0011 - val_loss: 7.2047e-04\n",
      "Epoch 3/100\n",
      "\u001b[1m3652/3652\u001b[0m \u001b[32m━━━━━━━━━━━━━━━━━━━━\u001b[0m\u001b[37m\u001b[0m \u001b[1m13s\u001b[0m 4ms/step - loss: 7.5472e-04 - val_loss: 3.1365e-04\n",
      "Epoch 4/100\n",
      "\u001b[1m3652/3652\u001b[0m \u001b[32m━━━━━━━━━━━━━━━━━━━━\u001b[0m\u001b[37m\u001b[0m \u001b[1m14s\u001b[0m 4ms/step - loss: 5.4466e-04 - val_loss: 2.0274e-04\n",
      "Epoch 5/100\n",
      "\u001b[1m3652/3652\u001b[0m \u001b[32m━━━━━━━━━━━━━━━━━━━━\u001b[0m\u001b[37m\u001b[0m \u001b[1m13s\u001b[0m 3ms/step - loss: 5.0308e-04 - val_loss: 0.0018\n",
      "Epoch 6/100\n",
      "\u001b[1m3652/3652\u001b[0m \u001b[32m━━━━━━━━━━━━━━━━━━━━\u001b[0m\u001b[37m\u001b[0m \u001b[1m13s\u001b[0m 4ms/step - loss: 4.8546e-04 - val_loss: 0.0012\n",
      "Epoch 7/100\n",
      "\u001b[1m3652/3652\u001b[0m \u001b[32m━━━━━━━━━━━━━━━━━━━━\u001b[0m\u001b[37m\u001b[0m \u001b[1m13s\u001b[0m 4ms/step - loss: 4.5935e-04 - val_loss: 5.4999e-04\n",
      "Epoch 8/100\n",
      "\u001b[1m3652/3652\u001b[0m \u001b[32m━━━━━━━━━━━━━━━━━━━━\u001b[0m\u001b[37m\u001b[0m \u001b[1m12s\u001b[0m 3ms/step - loss: 3.7967e-04 - val_loss: 3.6725e-04\n",
      "Epoch 9/100\n",
      "\u001b[1m3652/3652\u001b[0m \u001b[32m━━━━━━━━━━━━━━━━━━━━\u001b[0m\u001b[37m\u001b[0m \u001b[1m13s\u001b[0m 3ms/step - loss: 3.5177e-04 - val_loss: 9.8610e-05\n",
      "Epoch 10/100\n",
      "\u001b[1m3652/3652\u001b[0m \u001b[32m━━━━━━━━━━━━━━━━━━━━\u001b[0m\u001b[37m\u001b[0m \u001b[1m13s\u001b[0m 3ms/step - loss: 3.4336e-04 - val_loss: 1.5646e-04\n",
      "Epoch 11/100\n",
      "\u001b[1m3652/3652\u001b[0m \u001b[32m━━━━━━━━━━━━━━━━━━━━\u001b[0m\u001b[37m\u001b[0m \u001b[1m13s\u001b[0m 3ms/step - loss: 3.4918e-04 - val_loss: 2.1678e-04\n",
      "Epoch 12/100\n",
      "\u001b[1m3652/3652\u001b[0m \u001b[32m━━━━━━━━━━━━━━━━━━━━\u001b[0m\u001b[37m\u001b[0m \u001b[1m13s\u001b[0m 3ms/step - loss: 3.4672e-04 - val_loss: 1.3080e-04\n",
      "Epoch 13/100\n",
      "\u001b[1m3652/3652\u001b[0m \u001b[32m━━━━━━━━━━━━━━━━━━━━\u001b[0m\u001b[37m\u001b[0m \u001b[1m13s\u001b[0m 3ms/step - loss: 3.1539e-04 - val_loss: 1.3540e-04\n",
      "Epoch 14/100\n",
      "\u001b[1m3652/3652\u001b[0m \u001b[32m━━━━━━━━━━━━━━━━━━━━\u001b[0m\u001b[37m\u001b[0m \u001b[1m13s\u001b[0m 4ms/step - loss: 2.8801e-04 - val_loss: 0.0021\n",
      "Epoch 15/100\n",
      "\u001b[1m3652/3652\u001b[0m \u001b[32m━━━━━━━━━━━━━━━━━━━━\u001b[0m\u001b[37m\u001b[0m \u001b[1m13s\u001b[0m 4ms/step - loss: 3.0249e-04 - val_loss: 2.1759e-04\n",
      "Epoch 16/100\n",
      "\u001b[1m3652/3652\u001b[0m \u001b[32m━━━━━━━━━━━━━━━━━━━━\u001b[0m\u001b[37m\u001b[0m \u001b[1m14s\u001b[0m 4ms/step - loss: 2.5127e-04 - val_loss: 3.2902e-04\n",
      "Epoch 17/100\n",
      "\u001b[1m3652/3652\u001b[0m \u001b[32m━━━━━━━━━━━━━━━━━━━━\u001b[0m\u001b[37m\u001b[0m \u001b[1m14s\u001b[0m 4ms/step - loss: 2.4780e-04 - val_loss: 2.4009e-04\n",
      "Epoch 18/100\n",
      "\u001b[1m3652/3652\u001b[0m \u001b[32m━━━━━━━━━━━━━━━━━━━━\u001b[0m\u001b[37m\u001b[0m \u001b[1m14s\u001b[0m 4ms/step - loss: 2.5946e-04 - val_loss: 6.8064e-05\n",
      "Epoch 19/100\n",
      "\u001b[1m3652/3652\u001b[0m \u001b[32m━━━━━━━━━━━━━━━━━━━━\u001b[0m\u001b[37m\u001b[0m \u001b[1m14s\u001b[0m 4ms/step - loss: 2.4542e-04 - val_loss: 1.5597e-04\n",
      "Epoch 20/100\n",
      "\u001b[1m3652/3652\u001b[0m \u001b[32m━━━━━━━━━━━━━━━━━━━━\u001b[0m\u001b[37m\u001b[0m \u001b[1m14s\u001b[0m 4ms/step - loss: 2.2070e-04 - val_loss: 1.1627e-04\n",
      "Epoch 21/100\n",
      "\u001b[1m3652/3652\u001b[0m \u001b[32m━━━━━━━━━━━━━━━━━━━━\u001b[0m\u001b[37m\u001b[0m \u001b[1m14s\u001b[0m 4ms/step - loss: 2.1483e-04 - val_loss: 2.0515e-04\n",
      "Epoch 22/100\n",
      "\u001b[1m3652/3652\u001b[0m \u001b[32m━━━━━━━━━━━━━━━━━━━━\u001b[0m\u001b[37m\u001b[0m \u001b[1m14s\u001b[0m 4ms/step - loss: 2.2525e-04 - val_loss: 3.2353e-04\n",
      "Epoch 23/100\n",
      "\u001b[1m3652/3652\u001b[0m \u001b[32m━━━━━━━━━━━━━━━━━━━━\u001b[0m\u001b[37m\u001b[0m \u001b[1m14s\u001b[0m 4ms/step - loss: 2.3366e-04 - val_loss: 0.0012\n",
      "Epoch 24/100\n",
      "\u001b[1m3652/3652\u001b[0m \u001b[32m━━━━━━━━━━━━━━━━━━━━\u001b[0m\u001b[37m\u001b[0m \u001b[1m14s\u001b[0m 4ms/step - loss: 2.3287e-04 - val_loss: 6.9803e-04\n",
      "Epoch 25/100\n",
      "\u001b[1m3652/3652\u001b[0m \u001b[32m━━━━━━━━━━━━━━━━━━━━\u001b[0m\u001b[37m\u001b[0m \u001b[1m13s\u001b[0m 4ms/step - loss: 2.0182e-04 - val_loss: 4.8457e-04\n",
      "Epoch 26/100\n",
      "\u001b[1m3652/3652\u001b[0m \u001b[32m━━━━━━━━━━━━━━━━━━━━\u001b[0m\u001b[37m\u001b[0m \u001b[1m13s\u001b[0m 4ms/step - loss: 2.1916e-04 - val_loss: 9.1564e-04\n",
      "Epoch 27/100\n",
      "\u001b[1m3652/3652\u001b[0m \u001b[32m━━━━━━━━━━━━━━━━━━━━\u001b[0m\u001b[37m\u001b[0m \u001b[1m14s\u001b[0m 4ms/step - loss: 2.0354e-04 - val_loss: 2.4949e-04\n",
      "Epoch 28/100\n",
      "\u001b[1m3652/3652\u001b[0m \u001b[32m━━━━━━━━━━━━━━━━━━━━\u001b[0m\u001b[37m\u001b[0m \u001b[1m13s\u001b[0m 4ms/step - loss: 1.8074e-04 - val_loss: 2.7093e-04\n"
     ]
    }
   ],
   "source": [
    "# Entrenamiento Autoencoder\n",
    "autoencoder = build_autoencoder(input_dim)\n",
    "start_time = time.time()\n",
    "history_ae = autoencoder.fit(\n",
    "    X_train, X_train,\n",
    "    validation_data=(X_val, X_val),\n",
    "    epochs=100, batch_size=512, \n",
    "    callbacks=[early_stop], verbose=0\n",
    ")\n",
    "train_time_ae = time.time() - start_time"
   ]
  },
  {
   "cell_type": "code",
   "execution_count": null,
   "id": "ca056cfd",
   "metadata": {},
   "outputs": [],
   "source": [
    "# Extracción de características\n",
    "encoder = models.Model(autoencoder.input, autoencoder.get_layer('bottleneck').output)\n",
    "Z_train = encoder.predict(X_train, verbose=0)\n",
    "Z_val = encoder.predict(X_val, verbose=0)\n",
    "Z_test = encoder.predict(X_test, verbose=0)"
   ]
  },
  {
   "cell_type": "code",
   "execution_count": null,
   "id": "038d9298",
   "metadata": {},
   "outputs": [],
   "source": [
    "# Preparación secuencial\n",
    "def to_sequential_format(arr):\n",
    "    return arr.reshape((arr.shape[0], arr.shape[1], 1))\n",
    "\n",
    "Z_train_seq = to_sequential_format(Z_train)\n",
    "Z_val_seq = to_sequential_format(Z_val)\n",
    "Z_test_seq = to_sequential_format(Z_test)"
   ]
  },
  {
   "cell_type": "code",
   "execution_count": null,
   "id": "68ab8959",
   "metadata": {},
   "outputs": [],
   "source": [
    "# Modelo CNN-LSTM\n",
    "def build_cnn_lstm(seq_length):\n",
    "    \"\"\"Construye clasificador CNN-LSTM\"\"\"\n",
    "    model = Sequential([\n",
    "        Conv1D(64, 3, activation='relu', padding='same', input_shape=(seq_length, 1)),\n",
    "        MaxPooling1D(2),\n",
    "        Conv1D(128, 3, activation='relu', padding='same'),\n",
    "        Dropout(0.3),\n",
    "        LSTM(64, return_sequences=False),\n",
    "        Dense(64, activation='relu'),\n",
    "        Dropout(0.3),\n",
    "        Dense(1, activation='sigmoid')\n",
    "    ])\n",
    "    model.compile(optimizer='adam', loss='binary_crossentropy', metrics=['accuracy'])\n",
    "    return model"
   ]
  },
  {
   "cell_type": "code",
   "execution_count": null,
   "id": "f0a0b93f",
   "metadata": {},
   "outputs": [],
   "source": [
    "# Entrenamiento CNN-LSTM\n",
    "cnn_lstm_model = build_cnn_lstm(Z_train_seq.shape[1])\n",
    "start_time = time.time()\n",
    "history_clf = cnn_lstm_model.fit(\n",
    "    Z_train_seq, y_train,\n",
    "    validation_data=(Z_val_seq, y_val),\n",
    "    epochs=100, batch_size=512,\n",
    "    class_weight=class_weight_dict,\n",
    "    callbacks=[early_stop, reduce_lr],\n",
    "    verbose=0\n",
    ")\n",
    "train_time_clf = time.time() - start_time"
   ]
  },
  {
   "cell_type": "code",
   "execution_count": null,
   "id": "57971188",
   "metadata": {},
   "outputs": [],
   "source": [
    "# Evaluación Variante 1\n",
    "start_inf = time.time()\n",
    "y_prob_var1 = cnn_lstm_model.predict(Z_test_seq, verbose=0).ravel()\n",
    "inf_time_var1 = (time.time() - start_inf) / len(Z_test_seq)\n",
    "y_pred_var1 = (y_prob_var1 >= 0.5).astype(int)\n",
    "\n",
    "report_var1 = classification_report(y_test, y_pred_var1, output_dict=True, zero_division=0)\n",
    "roc_auc_var1 = roc_auc_score(y_test, y_prob_var1)\n",
    "pr_auc_var1 = average_precision_score(y_test, y_prob_var1)\n",
    "precision_var1, recall_var1, _ = precision_recall_curve(y_test, y_prob_var1)\n",
    "\n",
    "train_time_var1 = train_time_ae + train_time_clf\n",
    "\n",
    "print(\"✅ Variante 1 completada\")\n",
    "print(f\"   ⏱️  Tiempo total: {train_time_var1:.1f}s\")\n",
    "print(f\"   ⚡ Latencia: {inf_time_var1*1e6:.1f}µs/muestra\")"
   ]
  },
  {
   "cell_type": "markdown",
   "id": "664d34b5",
   "metadata": {},
   "source": [
    "### VARIANTE 2: MULTI-LAYER PERCEPTRON (MLP)"
   ]
  },
  {
   "cell_type": "code",
   "execution_count": null,
   "id": "443dc068",
   "metadata": {},
   "outputs": [],
   "source": [
    "def build_mlp(input_dim):\n",
    "    model = Sequential([\n",
    "        Dense(128, activation='relu', input_shape=(input_dim,)),\n",
    "        Dropout(0.3),\n",
    "        Dense(64, activation='relu'),\n",
    "        Dropout(0.3),\n",
    "        Dense(32, activation='relu'),\n",
    "        Dense(1, activation='sigmoid')\n",
    "    ])\n",
    "    model.compile(optimizer='adam', loss='binary_crossentropy', metrics=['accuracy'])\n",
    "    return model"
   ]
  },
  {
   "cell_type": "code",
   "execution_count": null,
   "id": "6c4b61b3",
   "metadata": {},
   "outputs": [
    {
     "name": "stderr",
     "output_type": "stream",
     "text": [
      "2025-10-23 19:43:00.395282: W external/local_tsl/tsl/framework/cpu_allocator_impl.cc:83] Allocation of 239274880 exceeds 10% of free system memory.\n"
     ]
    }
   ],
   "source": [
    "# Entrenamiento MLP\n",
    "mlp_model = build_mlp(input_dim)\n",
    "start_time = time.time()\n",
    "history_mlp = mlp_model.fit(\n",
    "    X_train, y_train,\n",
    "    validation_data=(X_val, y_val),\n",
    "    epochs=100, batch_size=512,\n",
    "    class_weight=class_weight_dict,\n",
    "    callbacks=[early_stop, reduce_lr],\n",
    "    verbose=0\n",
    ")\n",
    "train_time_var2 = time.time() - start_time"
   ]
  },
  {
   "cell_type": "code",
   "execution_count": null,
   "id": "7244a6ad",
   "metadata": {},
   "outputs": [],
   "source": [
    "# Evaluación Variante 2\n",
    "start_inf = time.time()\n",
    "y_prob_var2 = mlp_model.predict(X_test, verbose=0).ravel()\n",
    "inf_time_var2 = (time.time() - start_inf) / len(X_test)\n",
    "y_pred_var2 = (y_prob_var2 >= 0.5).astype(int)\n",
    "\n",
    "report_var2 = classification_report(y_test, y_pred_var2, output_dict=True, zero_division=0)\n",
    "roc_auc_var2 = roc_auc_score(y_test, y_prob_var2)\n",
    "pr_auc_var2 = average_precision_score(y_test, y_prob_var2)\n",
    "precision_var2, recall_var2, _ = precision_recall_curve(y_test, y_prob_var2)\n",
    "\n",
    "print(\"✅ Variante 2 completada\")\n",
    "print(f\"   ⏱️  Tiempo: {train_time_var2:.1f}s\")\n",
    "print(f\"   ⚡ Latencia: {inf_time_var2*1e6:.1f}µs/muestra\")"
   ]
  },
  {
   "cell_type": "markdown",
   "id": "87718875",
   "metadata": {},
   "source": [
    "## RESULTADOS Y VISUALIZACIÓN"
   ]
  },
  {
   "cell_type": "markdown",
   "id": "65f1e9c1",
   "metadata": {},
   "source": [
    "### Tabla Comparativa: Baseline vs. Variante 1"
   ]
  },
  {
   "cell_type": "code",
   "execution_count": null,
   "id": "bef26b5c",
   "metadata": {},
   "outputs": [
    {
     "name": "stdout",
     "output_type": "stream",
     "text": [
      "\n",
      "Tabla de Resultados:\n",
      "| Métrica                          |   Línea Base (Regresión Logística) |   Variante 1 (AE + CNN-LSTM) |\n",
      "|:---------------------------------|-----------------------------------:|-----------------------------:|\n",
      "| F1-Score (ATTACK)                |                             0.4165 |                       0.4396 |\n",
      "| Precision (ATTACK)               |                             0.3135 |                       0.3328 |\n",
      "| Recall (ATTACK)                  |                             0.6206 |                       0.6477 |\n",
      "| Accuracy                         |                             0.6366 |                       0.6549 |\n",
      "| PR-AUC (Secundaria)              |                             0.3604 |                       0.3941 |\n",
      "| ROC-AUC                          |                             0.6825 |                       0.7107 |\n",
      "| Tiempo Entrenamiento (s)         |                            10      |                     934      |\n",
      "| Latencia Inferencia (µs/muestra) |                             0.1    |                      23.4    |\n"
     ]
    }
   ],
   "source": [
    "# Tabla comparativa\n",
    "results_data = {\n",
    "    'Métrica': [\n",
    "        'F1-Score (ATTACK) - Principal',\n",
    "        'Precision (ATTACK)',\n",
    "        'Recall (ATTACK)', \n",
    "        'Accuracy',\n",
    "        'PR-AUC - Secundaria',\n",
    "        'ROC-AUC',\n",
    "        'Tiempo Entrenamiento (s)',\n",
    "        'Latencia Inferencia (µs/muestra)'\n",
    "    ],\n",
    "    'Línea Base (Regresión Logística)': [\n",
    "        f\"{report_base['1']['f1-score']:.4f}\",\n",
    "        f\"{report_base['1']['precision']:.4f}\",\n",
    "        f\"{report_base['1']['recall']:.4f}\",\n",
    "        f\"{report_base['accuracy']:.4f}\",\n",
    "        f\"{pr_auc_base:.4f}\",\n",
    "        f\"{roc_auc_base:.4f}\",\n",
    "        f\"{train_time_base:.1f}\",\n",
    "        f\"{inf_time_base*1e6:.1f}\"\n",
    "    ],\n",
    "    'Variante 1 (AE + CNN-LSTM)': [\n",
    "        f\"{report_var1['1']['f1-score']:.4f}\",\n",
    "        f\"{report_var1['1']['precision']:.4f}\",\n",
    "        f\"{report_var1['1']['recall']:.4f}\",\n",
    "        f\"{report_var1['accuracy']:.4f}\",\n",
    "        f\"{pr_auc_var1:.4f}\",\n",
    "        f\"{roc_auc_var1:.4f}\",\n",
    "        f\"{train_time_var1:.1f}\",\n",
    "        f\"{inf_time_var1*1e6:.1f}\"\n",
    "    ],\n",
    "    'Variante 2 (MLP)': [\n",
    "        f\"{report_var2['1']['f1-score']:.4f}\",\n",
    "        f\"{report_var2['1']['precision']:.4f}\",\n",
    "        f\"{report_var2['1']['recall']:.4f}\",\n",
    "        f\"{report_var2['accuracy']:.4f}\",\n",
    "        f\"{pr_auc_var2:.4f}\",\n",
    "        f\"{roc_auc_var2:.4f}\",\n",
    "        f\"{train_time_var2:.1f}\",\n",
    "        f\"{inf_time_var2*1e6:.1f}\"\n",
    "    ]\n",
    "}\n",
    "\n",
    "df_results = pd.DataFrame(results_data)\n",
    "print(\"\\n📋 TABLA COMPARATIVA\")\n",
    "print(\"=\"*80)\n",
    "print(df_results.to_string(index=False))\n",
    "print(\"=\"*80)"
   ]
  },
  {
   "cell_type": "markdown",
   "id": "6f504db0",
   "metadata": {},
   "source": [
    "### Gráfico Único: Curva Precision-Recall"
   ]
  },
  {
   "cell_type": "code",
   "execution_count": null,
   "id": "11807951",
   "metadata": {},
   "outputs": [
    {
     "data": {
      "image/png": "[encoded data removed]",
      "text/plain": [
       "<Figure size 1000x600 with 1 Axes>"
      ]
     },
     "metadata": {},
     "output_type": "display_data"
    }
   ],
   "source": [
    "plt.figure(figsize=(12, 8))\n",
    "plt.plot(recall_base, precision_base, \n",
    "         label=f'Línea Base (PR-AUC = {pr_auc_base:.3f})', \n",
    "         color='red', linewidth=2, linestyle='--')\n",
    "plt.plot(recall_var1, precision_var1, \n",
    "         label=f'Variante 1 - AE+CNN-LSTM (PR-AUC = {pr_auc_var1:.3f})', \n",
    "         color='blue', linewidth=2)\n",
    "plt.plot(recall_var2, precision_var2, \n",
    "         label=f'Variante 2 - MLP (PR-AUC = {pr_auc_var2:.3f})', \n",
    "         color='green', linewidth=2, linestyle=':')\n",
    "\n",
    "plt.xlabel('Recall', fontsize=12)\n",
    "plt.ylabel('Precision', fontsize=12)\n",
    "plt.title('Curva Precision-Recall Comparativa\\n(Métrica Secundaria Principal para Detección de DDoS)', \n",
    "          fontsize=14, fontweight='bold')\n",
    "plt.legend(fontsize=11, loc='upper right')\n",
    "plt.grid(True, alpha=0.3)\n",
    "plt.tight_layout()\n",
    "plt.show()"
   ]
  },
  {
   "cell_type": "markdown",
   "id": "be73d39f",
   "metadata": {},
   "source": [
    "## 5. Validación y Sanidad\n",
    "- **Split Estratificado:** Proporción de clases mantenida\n",
    "- **Sin Leakage:** Scaler ajustado solo con training\n",
    "- **Seeds Fijos:** random_state=42 para reproducibilidad\n",
    "- **Evaluación Consistente:** Mismas métricas para todos"
   ]
  },
  {
   "cell_type": "markdown",
   "id": "ed115ac8",
   "metadata": {},
   "source": [
    "## 6. Conclusión y Decisión"
   ]
  },
  {
   "cell_type": "code",
   "execution_count": null,
   "id": "b2cf3130",
   "metadata": {},
   "outputs": [],
   "source": [
    "f1_scores = {\n",
    "    'Línea Base': report_base['1']['f1-score'],\n",
    "    'Variante 1': report_var1['1']['f1-score'], \n",
    "    'Variante 2': report_var2['1']['f1-score']\n",
    "}\n",
    "\n",
    "best_model_name = max(f1_scores, key=f1_scores.get)"
   ]
  },
  {
   "cell_type": "markdown",
   "id": "12a18828",
   "metadata": {},
   "source": [
    "## 7. Reproducibilidad"
   ]
  },
  {
   "cell_type": "code",
   "execution_count": null,
   "id": "a6bdc653",
   "metadata": {},
   "outputs": [],
   "source": [
    "# Guardar artefactos\n",
    "checkpoint_dir = Path(\"checkpoints\")\n",
    "checkpoint_dir.mkdir(exist_ok=True)\n",
    "\n",
    "print(f\"\\n💾 GUARDANDO ARTEFACTOS EN: {checkpoint_dir.absolute()}\")\n",
    "\n",
    "# Guardar scaler y modelo seleccionado\n",
    "joblib.dump(scaler, checkpoint_dir / \"scaler.pkl\")\n",
    "\n",
    "if best_model_name == 'Variante 1':\n",
    "    encoder.save(checkpoint_dir / \"encoder.keras\")\n",
    "    cnn_lstm_model.save(checkpoint_dir / \"classifier.keras\")\n",
    "    print(\"✅ Autoencoder + CNN-LSTM guardado\")\n",
    "elif best_model_name == 'Variante 2':\n",
    "    mlp_model.save(checkpoint_dir / \"mlp_classifier.keras\")\n",
    "    print(\"✅ MLP guardado\")\n",
    "else:\n",
    "    joblib.dump(baseline_model, checkpoint_dir / \"logistic_regression.pkl\")\n",
    "    print(\"✅ Regresión Logística guardada\")\n",
    "\n",
    "# Guardar resultados\n",
    "df_results.to_csv(checkpoint_dir / \"model_comparison_results.csv\", index=False)\n",
    "print(\"✅ Resultados comparativos guardados\")\n",
    "\n",
    "print(f\"\\n📁 ESTRUCTURA DE ARTEFACTOS:\")\n",
    "for file in checkpoint_dir.glob(\"*\"):\n",
    "    print(f\"   • {file.name}\")"
   ]
  },
  {
   "cell_type": "markdown",
   "id": "f5ad7dcd",
   "metadata": {},
   "source": [
    "\n",
    "- **Comandos para Correr (README):**\n",
    "    1.  Asegurarse de tener el dataset `dataset_final.csv` en la carpeta `../dataset/`.\n",
    "    2.  Instalar las dependencias (`pip install -r requirements.txt`).\n",
    "    3.  Ejecutar este script o notebook."
   ]
  },
  {
   "cell_type": "markdown",
   "id": "cf654afa",
   "metadata": {},
   "source": [
    "**Ubicación de Artefactos:** Los modelos finales y el scaler se guardan en la carpeta `./checkpoints/`."
   ]
  }
 ],
 "metadata": {
  "kernelspec": {
   "display_name": "Python 3",
   "language": "python",
   "name": "python3"
  },
  "language_info": {
   "codemirror_mode": {
    "name": "ipython",
    "version": 3
   },
   "file_extension": ".py",
   "mimetype": "text/x-python",
   "name": "python",
   "nbconvert_exporter": "python",
   "pygments_lexer": "ipython3",
   "version": "3.10.12"
  }
 },
 "nbformat": 4,
 "nbformat_minor": 5
}
