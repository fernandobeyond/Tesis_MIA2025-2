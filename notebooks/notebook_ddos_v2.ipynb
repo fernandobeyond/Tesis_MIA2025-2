{
 "cells": [
  {
   "cell_type": "markdown",
   "id": "8e6389b7",
   "metadata": {},
   "source": [
    "## Imports"
   ]
  },
  {
   "cell_type": "code",
   "execution_count": 1,
   "id": "26fdd5b5",
   "metadata": {},
   "outputs": [
    {
     "name": "stderr",
     "output_type": "stream",
     "text": [
      "2025-10-23 19:23:41.804751: E external/local_xla/xla/stream_executor/cuda/cuda_fft.cc:485] Unable to register cuFFT factory: Attempting to register factory for plugin cuFFT when one has already been registered\n",
      "2025-10-23 19:23:53.689785: E external/local_xla/xla/stream_executor/cuda/cuda_dnn.cc:8454] Unable to register cuDNN factory: Attempting to register factory for plugin cuDNN when one has already been registered\n",
      "2025-10-23 19:23:57.525141: E external/local_xla/xla/stream_executor/cuda/cuda_blas.cc:1452] Unable to register cuBLAS factory: Attempting to register factory for plugin cuBLAS when one has already been registered\n",
      "2025-10-23 19:24:20.816929: I tensorflow/core/platform/cpu_feature_guard.cc:210] This TensorFlow binary is optimized to use available CPU instructions in performance-critical operations.\n",
      "To enable the following instructions: AVX2 FMA, in other operations, rebuild TensorFlow with the appropriate compiler flags.\n",
      "2025-10-23 19:25:09.300895: W tensorflow/compiler/tf2tensorrt/utils/py_utils.cc:38] TF-TRT Warning: Could not find TensorRT\n"
     ]
    }
   ],
   "source": [
    "import numpy as np\n",
    "import pandas as pd\n",
    "from pathlib import Path\n",
    "\n",
    "from sklearn.model_selection import train_test_split\n",
    "from sklearn.preprocessing import StandardScaler\n",
    "from sklearn.metrics import (classification_report, confusion_matrix,\n",
    "                             roc_auc_score, average_precision_score)\n",
    "from sklearn.utils.class_weight import compute_class_weight\n",
    "\n",
    "import tensorflow as tf\n",
    "from tensorflow.keras import layers, models, callbacks, optimizers"
   ]
  },
  {
   "cell_type": "markdown",
   "id": "486f2c90",
   "metadata": {},
   "source": [
    "## rutas"
   ]
  },
  {
   "cell_type": "code",
   "execution_count": 2,
   "id": "2e92dbbf",
   "metadata": {},
   "outputs": [],
   "source": [
    "DATASET_PATH = \"..\\dataset\\dataset_final.csv\""
   ]
  },
  {
   "cell_type": "code",
   "execution_count": 3,
   "id": "08b1732a",
   "metadata": {},
   "outputs": [],
   "source": [
    "df = pd.read_csv(DATASET_PATH)"
   ]
  },
  {
   "cell_type": "code",
   "execution_count": 4,
   "id": "39e86ce4",
   "metadata": {},
   "outputs": [
    {
     "name": "stdout",
     "output_type": "stream",
     "text": [
      "(2660377, 20)\n",
      "<class 'pandas.core.frame.DataFrame'>\n",
      "RangeIndex: 2660377 entries, 0 to 2660376\n",
      "Data columns (total 20 columns):\n",
      " #   Column                       Dtype  \n",
      "---  ------                       -----  \n",
      " 0   Flow Duration                int64  \n",
      " 1   Total Fwd Packets            int64  \n",
      " 2   Total Backward Packets       int64  \n",
      " 3   Total Length of Fwd Packets  float64\n",
      " 4   Total Length of Bwd Packets  float64\n",
      " 5   Fwd Packet Length Max        float64\n",
      " 6   Fwd Packet Length Min        float64\n",
      " 7   Fwd Packet Length Mean       float64\n",
      " 8   Bwd Packet Length Max        float64\n",
      " 9   Bwd Packet Length Min        float64\n",
      " 10  Bwd Packet Length Mean       float64\n",
      " 11  Flow Bytes/s                 float64\n",
      " 12  Flow Packets/s               float64\n",
      " 13  Init_Win_bytes_forward       int64  \n",
      " 14  Init_Win_bytes_backward      int64  \n",
      " 15  act_data_pkt_fwd             int64  \n",
      " 16  min_seg_size_forward         int64  \n",
      " 17  Active Mean                  float64\n",
      " 18  Idle Mean                    float64\n",
      " 19  Attack_Label                 object \n",
      "dtypes: float64(12), int64(7), object(1)\n",
      "memory usage: 405.9+ MB\n",
      "None\n"
     ]
    },
    {
     "data": {
      "text/html": [
       "<div>\n",
       "<style scoped>\n",
       "    .dataframe tbody tr th:only-of-type {\n",
       "        vertical-align: middle;\n",
       "    }\n",
       "\n",
       "    .dataframe tbody tr th {\n",
       "        vertical-align: top;\n",
       "    }\n",
       "\n",
       "    .dataframe thead th {\n",
       "        text-align: right;\n",
       "    }\n",
       "</style>\n",
       "<table border=\"1\" class=\"dataframe\">\n",
       "  <thead>\n",
       "    <tr style=\"text-align: right;\">\n",
       "      <th></th>\n",
       "      <th>Flow Duration</th>\n",
       "      <th>Total Fwd Packets</th>\n",
       "      <th>Total Backward Packets</th>\n",
       "      <th>Total Length of Fwd Packets</th>\n",
       "      <th>Total Length of Bwd Packets</th>\n",
       "      <th>Fwd Packet Length Max</th>\n",
       "      <th>Fwd Packet Length Min</th>\n",
       "      <th>Fwd Packet Length Mean</th>\n",
       "      <th>Bwd Packet Length Max</th>\n",
       "      <th>Bwd Packet Length Min</th>\n",
       "      <th>Bwd Packet Length Mean</th>\n",
       "      <th>Flow Bytes/s</th>\n",
       "      <th>Flow Packets/s</th>\n",
       "      <th>Init_Win_bytes_forward</th>\n",
       "      <th>Init_Win_bytes_backward</th>\n",
       "      <th>act_data_pkt_fwd</th>\n",
       "      <th>min_seg_size_forward</th>\n",
       "      <th>Active Mean</th>\n",
       "      <th>Idle Mean</th>\n",
       "      <th>Attack_Label</th>\n",
       "    </tr>\n",
       "  </thead>\n",
       "  <tbody>\n",
       "    <tr>\n",
       "      <th>0</th>\n",
       "      <td>4</td>\n",
       "      <td>2</td>\n",
       "      <td>0</td>\n",
       "      <td>12.0</td>\n",
       "      <td>0.0</td>\n",
       "      <td>6.0</td>\n",
       "      <td>6.0</td>\n",
       "      <td>6.0</td>\n",
       "      <td>0.0</td>\n",
       "      <td>0.0</td>\n",
       "      <td>0.0</td>\n",
       "      <td>3000000.0</td>\n",
       "      <td>5.000000e+05</td>\n",
       "      <td>329</td>\n",
       "      <td>-1</td>\n",
       "      <td>1</td>\n",
       "      <td>20</td>\n",
       "      <td>0.0</td>\n",
       "      <td>0.0</td>\n",
       "      <td>BENIGN</td>\n",
       "    </tr>\n",
       "    <tr>\n",
       "      <th>1</th>\n",
       "      <td>1</td>\n",
       "      <td>2</td>\n",
       "      <td>0</td>\n",
       "      <td>12.0</td>\n",
       "      <td>0.0</td>\n",
       "      <td>6.0</td>\n",
       "      <td>6.0</td>\n",
       "      <td>6.0</td>\n",
       "      <td>0.0</td>\n",
       "      <td>0.0</td>\n",
       "      <td>0.0</td>\n",
       "      <td>12000000.0</td>\n",
       "      <td>2.000000e+06</td>\n",
       "      <td>329</td>\n",
       "      <td>-1</td>\n",
       "      <td>1</td>\n",
       "      <td>20</td>\n",
       "      <td>0.0</td>\n",
       "      <td>0.0</td>\n",
       "      <td>BENIGN</td>\n",
       "    </tr>\n",
       "    <tr>\n",
       "      <th>2</th>\n",
       "      <td>1</td>\n",
       "      <td>2</td>\n",
       "      <td>0</td>\n",
       "      <td>12.0</td>\n",
       "      <td>0.0</td>\n",
       "      <td>6.0</td>\n",
       "      <td>6.0</td>\n",
       "      <td>6.0</td>\n",
       "      <td>0.0</td>\n",
       "      <td>0.0</td>\n",
       "      <td>0.0</td>\n",
       "      <td>12000000.0</td>\n",
       "      <td>2.000000e+06</td>\n",
       "      <td>329</td>\n",
       "      <td>-1</td>\n",
       "      <td>1</td>\n",
       "      <td>20</td>\n",
       "      <td>0.0</td>\n",
       "      <td>0.0</td>\n",
       "      <td>BENIGN</td>\n",
       "    </tr>\n",
       "    <tr>\n",
       "      <th>3</th>\n",
       "      <td>1</td>\n",
       "      <td>2</td>\n",
       "      <td>0</td>\n",
       "      <td>12.0</td>\n",
       "      <td>0.0</td>\n",
       "      <td>6.0</td>\n",
       "      <td>6.0</td>\n",
       "      <td>6.0</td>\n",
       "      <td>0.0</td>\n",
       "      <td>0.0</td>\n",
       "      <td>0.0</td>\n",
       "      <td>12000000.0</td>\n",
       "      <td>2.000000e+06</td>\n",
       "      <td>329</td>\n",
       "      <td>-1</td>\n",
       "      <td>1</td>\n",
       "      <td>20</td>\n",
       "      <td>0.0</td>\n",
       "      <td>0.0</td>\n",
       "      <td>BENIGN</td>\n",
       "    </tr>\n",
       "    <tr>\n",
       "      <th>4</th>\n",
       "      <td>3</td>\n",
       "      <td>2</td>\n",
       "      <td>0</td>\n",
       "      <td>12.0</td>\n",
       "      <td>0.0</td>\n",
       "      <td>6.0</td>\n",
       "      <td>6.0</td>\n",
       "      <td>6.0</td>\n",
       "      <td>0.0</td>\n",
       "      <td>0.0</td>\n",
       "      <td>0.0</td>\n",
       "      <td>4000000.0</td>\n",
       "      <td>6.666667e+05</td>\n",
       "      <td>245</td>\n",
       "      <td>-1</td>\n",
       "      <td>1</td>\n",
       "      <td>20</td>\n",
       "      <td>0.0</td>\n",
       "      <td>0.0</td>\n",
       "      <td>BENIGN</td>\n",
       "    </tr>\n",
       "  </tbody>\n",
       "</table>\n",
       "</div>"
      ],
      "text/plain": [
       "   Flow Duration  Total Fwd Packets  Total Backward Packets  \\\n",
       "0              4                  2                       0   \n",
       "1              1                  2                       0   \n",
       "2              1                  2                       0   \n",
       "3              1                  2                       0   \n",
       "4              3                  2                       0   \n",
       "\n",
       "   Total Length of Fwd Packets  Total Length of Bwd Packets  \\\n",
       "0                         12.0                          0.0   \n",
       "1                         12.0                          0.0   \n",
       "2                         12.0                          0.0   \n",
       "3                         12.0                          0.0   \n",
       "4                         12.0                          0.0   \n",
       "\n",
       "   Fwd Packet Length Max  Fwd Packet Length Min  Fwd Packet Length Mean  \\\n",
       "0                    6.0                    6.0                     6.0   \n",
       "1                    6.0                    6.0                     6.0   \n",
       "2                    6.0                    6.0                     6.0   \n",
       "3                    6.0                    6.0                     6.0   \n",
       "4                    6.0                    6.0                     6.0   \n",
       "\n",
       "   Bwd Packet Length Max  Bwd Packet Length Min  Bwd Packet Length Mean  \\\n",
       "0                    0.0                    0.0                     0.0   \n",
       "1                    0.0                    0.0                     0.0   \n",
       "2                    0.0                    0.0                     0.0   \n",
       "3                    0.0                    0.0                     0.0   \n",
       "4                    0.0                    0.0                     0.0   \n",
       "\n",
       "   Flow Bytes/s  Flow Packets/s  Init_Win_bytes_forward  \\\n",
       "0     3000000.0    5.000000e+05                     329   \n",
       "1    12000000.0    2.000000e+06                     329   \n",
       "2    12000000.0    2.000000e+06                     329   \n",
       "3    12000000.0    2.000000e+06                     329   \n",
       "4     4000000.0    6.666667e+05                     245   \n",
       "\n",
       "   Init_Win_bytes_backward  act_data_pkt_fwd  min_seg_size_forward  \\\n",
       "0                       -1                 1                    20   \n",
       "1                       -1                 1                    20   \n",
       "2                       -1                 1                    20   \n",
       "3                       -1                 1                    20   \n",
       "4                       -1                 1                    20   \n",
       "\n",
       "   Active Mean  Idle Mean Attack_Label  \n",
       "0          0.0        0.0       BENIGN  \n",
       "1          0.0        0.0       BENIGN  \n",
       "2          0.0        0.0       BENIGN  \n",
       "3          0.0        0.0       BENIGN  \n",
       "4          0.0        0.0       BENIGN  "
      ]
     },
     "execution_count": 4,
     "metadata": {},
     "output_type": "execute_result"
    }
   ],
   "source": [
    "print(df.shape)\n",
    "print(df.info())\n",
    "df.head()"
   ]
  },
  {
   "cell_type": "code",
   "execution_count": 5,
   "id": "81758890",
   "metadata": {},
   "outputs": [
    {
     "data": {
      "text/plain": [
       "Attack_Label\n",
       "BENIGN              2104911\n",
       "DoS Hulk             231073\n",
       "PortScan             158930\n",
       "DDoS                 128027\n",
       "DoS GoldenEye         10293\n",
       "FTP-Patator            7938\n",
       "SSH-Patator            5897\n",
       "DoS slowloris          5796\n",
       "DoS Slowhttptest       5499\n",
       "Bot                    1966\n",
       "Infiltration             36\n",
       "Heartbleed               11\n",
       "Name: count, dtype: int64"
      ]
     },
     "execution_count": 5,
     "metadata": {},
     "output_type": "execute_result"
    }
   ],
   "source": [
    "df['Attack_Label'].value_counts()"
   ]
  },
  {
   "cell_type": "code",
   "execution_count": 6,
   "id": "0c5c6691",
   "metadata": {},
   "outputs": [],
   "source": [
    "df[\"y\"] = (df[\"Attack_Label\"].astype(str) != \"BENIGN\").astype(int)"
   ]
  },
  {
   "cell_type": "code",
   "execution_count": 7,
   "id": "e3fb91b8",
   "metadata": {},
   "outputs": [
    {
     "data": {
      "text/plain": [
       "y\n",
       "0    2104911\n",
       "1     555466\n",
       "Name: count, dtype: int64"
      ]
     },
     "execution_count": 7,
     "metadata": {},
     "output_type": "execute_result"
    }
   ],
   "source": [
    "df['y'].value_counts()"
   ]
  },
  {
   "cell_type": "code",
   "execution_count": 8,
   "id": "f3989b96",
   "metadata": {},
   "outputs": [
    {
     "data": {
      "text/plain": [
       "['Flow Duration',\n",
       " 'Total Fwd Packets',\n",
       " 'Total Backward Packets',\n",
       " 'Total Length of Fwd Packets',\n",
       " 'Total Length of Bwd Packets',\n",
       " 'Fwd Packet Length Max',\n",
       " 'Fwd Packet Length Min',\n",
       " 'Fwd Packet Length Mean',\n",
       " 'Bwd Packet Length Max',\n",
       " 'Bwd Packet Length Min',\n",
       " 'Bwd Packet Length Mean',\n",
       " 'Flow Bytes/s',\n",
       " 'Flow Packets/s',\n",
       " 'Init_Win_bytes_forward',\n",
       " 'Init_Win_bytes_backward',\n",
       " 'act_data_pkt_fwd',\n",
       " 'min_seg_size_forward',\n",
       " 'Active Mean',\n",
       " 'Idle Mean']"
      ]
     },
     "execution_count": 8,
     "metadata": {},
     "output_type": "execute_result"
    }
   ],
   "source": [
    "feature_cols = [c for c in df.columns if c not in [\"Attack_Label\", \"y\"]]\n",
    "feature_cols"
   ]
  },
  {
   "cell_type": "code",
   "execution_count": 9,
   "id": "f641cc1c",
   "metadata": {},
   "outputs": [],
   "source": [
    "X = df[feature_cols].copy()"
   ]
  },
  {
   "cell_type": "code",
   "execution_count": 10,
   "id": "3f3e8270",
   "metadata": {},
   "outputs": [],
   "source": [
    "for col in [\"Init_Win_bytes_forward\", \"Init_Win_bytes_backward\"]:\n",
    "    if col in X.columns:\n",
    "        X.loc[X[col] < 0, col] = 0"
   ]
  },
  {
   "cell_type": "code",
   "execution_count": 11,
   "id": "cb75e272",
   "metadata": {},
   "outputs": [],
   "source": [
    "X = X.replace([np.inf, -np.inf], np.nan)\n",
    "X = X.fillna(X.median(numeric_only=True))"
   ]
  },
  {
   "cell_type": "code",
   "execution_count": 12,
   "id": "3dc48b8e",
   "metadata": {},
   "outputs": [],
   "source": [
    "y = df[\"y\"].values.astype(int)"
   ]
  },
  {
   "cell_type": "code",
   "execution_count": 13,
   "id": "33e4ec24",
   "metadata": {},
   "outputs": [],
   "source": [
    "X_train, X_temp, y_train, y_temp = train_test_split(\n",
    "    X.values, y, test_size=0.30, random_state=42, stratify=y\n",
    ")\n",
    "X_val, X_test, y_val, y_test = train_test_split(\n",
    "    X_temp, y_temp, test_size=0.50, random_state=42, stratify=y_temp\n",
    ")"
   ]
  },
  {
   "cell_type": "code",
   "execution_count": 14,
   "id": "af81b6c1",
   "metadata": {},
   "outputs": [],
   "source": [
    "scaler = StandardScaler()\n",
    "X_train = scaler.fit_transform(X_train)\n",
    "X_val   = scaler.transform(X_val)\n",
    "X_test  = scaler.transform(X_test)"
   ]
  },
  {
   "cell_type": "code",
   "execution_count": 15,
   "id": "d05b9052",
   "metadata": {},
   "outputs": [],
   "source": [
    "\n",
    "input_dim = X_train.shape[1]"
   ]
  },
  {
   "cell_type": "code",
   "execution_count": 16,
   "id": "6f93ef35",
   "metadata": {},
   "outputs": [
    {
     "name": "stdout",
     "output_type": "stream",
     "text": [
      "WARNING:tensorflow:From c:\\Proyectos_ml\\TESIS_MAESTRIA\\ddos\\lib\\site-packages\\keras\\src\\backend.py:1398: The name tf.executing_eagerly_outside_functions is deprecated. Please use tf.compat.v1.executing_eagerly_outside_functions instead.\n",
      "\n",
      "Epoch 1/100\n",
      "WARNING:tensorflow:From c:\\Proyectos_ml\\TESIS_MAESTRIA\\ddos\\lib\\site-packages\\keras\\src\\utils\\tf_utils.py:492: The name tf.ragged.RaggedTensorValue is deprecated. Please use tf.compat.v1.ragged.RaggedTensorValue instead.\n",
      "\n",
      "3638/3638 [==============================] - 28s 7ms/step - loss: 0.3588 - val_loss: 0.3031\n",
      "Epoch 2/100\n",
      "3638/3638 [==============================] - 27s 7ms/step - loss: 0.2407 - val_loss: 0.2156\n",
      "Epoch 3/100\n",
      "3638/3638 [==============================] - 24s 7ms/step - loss: 0.2281 - val_loss: 0.1915\n",
      "Epoch 4/100\n",
      "3638/3638 [==============================] - 24s 7ms/step - loss: 0.2031 - val_loss: 0.1005\n",
      "Epoch 5/100\n",
      "3638/3638 [==============================] - 24s 7ms/step - loss: 0.2680 - val_loss: 0.2283\n",
      "Epoch 6/100\n",
      "3638/3638 [==============================] - 22s 6ms/step - loss: 0.1247 - val_loss: 0.0322\n",
      "Epoch 7/100\n",
      "3638/3638 [==============================] - 25s 7ms/step - loss: 0.1493 - val_loss: 0.2027\n",
      "Epoch 8/100\n",
      "3638/3638 [==============================] - 22s 6ms/step - loss: 0.1368 - val_loss: 0.1207\n",
      "Epoch 9/100\n",
      "3638/3638 [==============================] - 24s 7ms/step - loss: 0.2524 - val_loss: 0.0745\n",
      "Epoch 10/100\n",
      "3638/3638 [==============================] - 24s 7ms/step - loss: 0.2019 - val_loss: 0.1313\n",
      "Epoch 11/100\n",
      "3638/3638 [==============================] - 26s 7ms/step - loss: 0.2434 - val_loss: 0.2542\n",
      "Epoch 12/100\n",
      "3638/3638 [==============================] - 29s 8ms/step - loss: 0.1949 - val_loss: 0.1655\n",
      "Epoch 13/100\n",
      "3638/3638 [==============================] - 25s 7ms/step - loss: 0.1758 - val_loss: 0.0620\n",
      "Epoch 14/100\n",
      "3638/3638 [==============================] - 25s 7ms/step - loss: 0.2213 - val_loss: 0.0805\n",
      "Epoch 15/100\n",
      "3638/3638 [==============================] - 25s 7ms/step - loss: 0.4116 - val_loss: 0.1762\n",
      "Epoch 16/100\n",
      "3638/3638 [==============================] - 25s 7ms/step - loss: 0.1295 - val_loss: 0.1278\n"
     ]
    }
   ],
   "source": [
    "# -----------------------------\n",
    "# 2) Stacked Autoencoder (no supervisado)\n",
    "# -----------------------------\n",
    "enc_units = [256, 128, 64]  # puedes ajustar\n",
    "bottleneck = 32             # tamaño del código comprimido\n",
    "\n",
    "ae_in = layers.Input(shape=(input_dim,), name=\"ae_input\")\n",
    "h = layers.Dense(enc_units[0], activation=\"relu\")(ae_in)\n",
    "h = layers.Dense(enc_units[1], activation=\"relu\")(h)\n",
    "h = layers.Dense(enc_units[2], activation=\"relu\")(h)\n",
    "code = layers.Dense(bottleneck, activation=\"relu\", name=\"bottleneck\")(h)\n",
    "\n",
    "h = layers.Dense(enc_units[2], activation=\"relu\")(code)\n",
    "h = layers.Dense(enc_units[1], activation=\"relu\")(h)\n",
    "h = layers.Dense(enc_units[0], activation=\"relu\")(h)\n",
    "ae_out = layers.Dense(input_dim, activation=\"linear\")(h)\n",
    "\n",
    "ae = models.Model(ae_in, ae_out, name=\"stacked_autoencoder\")\n",
    "ae.compile(optimizer=optimizers.Adam(1e-3), loss=\"mse\")\n",
    "\n",
    "ckpt_dir = Path(\"checkpoints\")\n",
    "ckpt_dir.mkdir(exist_ok=True, parents=True)\n",
    "ckpt_ae = callbacks.ModelCheckpoint(\n",
    "    filepath=str(ckpt_dir / \"ae_best.keras\"),\n",
    "    save_best_only=True, monitor=\"val_loss\", mode=\"min\"\n",
    ")\n",
    "early_ae = callbacks.EarlyStopping(monitor=\"val_loss\", patience=10, restore_best_weights=True)\n",
    "\n",
    "hist_ae = ae.fit(\n",
    "    X_train, X_train,\n",
    "    validation_data=(X_val, X_val),\n",
    "    epochs=100, batch_size=512,\n",
    "    callbacks=[ckpt_ae, early_ae],\n",
    "    verbose=1\n",
    ")"
   ]
  },
  {
   "cell_type": "code",
   "execution_count": 17,
   "id": "10cbe05b",
   "metadata": {},
   "outputs": [],
   "source": [
    "\n",
    "# Extraer encoder (hasta la capa bottleneck)\n",
    "encoder = models.Model(ae.input, ae.get_layer(\"bottleneck\").output, name=\"encoder\")"
   ]
  },
  {
   "cell_type": "code",
   "execution_count": 18,
   "id": "a4440472",
   "metadata": {},
   "outputs": [],
   "source": [
    "# Representaciones comprimidas\n",
    "Z_train = encoder.predict(X_train, batch_size=1024, verbose=0)\n",
    "Z_val   = encoder.predict(X_val,   batch_size=1024, verbose=0)\n",
    "Z_test  = encoder.predict(X_test,  batch_size=1024, verbose=0)"
   ]
  },
  {
   "cell_type": "code",
   "execution_count": null,
   "id": "7fffe2d5",
   "metadata": {},
   "outputs": [
    {
     "name": "stdout",
     "output_type": "stream",
     "text": [
      "WARNING:tensorflow:From c:\\Proyectos_ml\\TESIS_MAESTRIA\\ddos\\lib\\site-packages\\keras\\src\\backend.py:6642: The name tf.nn.max_pool is deprecated. Please use tf.nn.max_pool2d instead.\n",
      "\n",
      "Class weights: {0: 0.6319452409570276, 1: 2.394725404165359}\n",
      "Epoch 1/100\n",
      "WARNING:tensorflow:From c:\\Proyectos_ml\\TESIS_MAESTRIA\\ddos\\lib\\site-packages\\keras\\src\\engine\\base_layer_utils.py:384: The name tf.executing_eagerly_outside_functions is deprecated. Please use tf.compat.v1.executing_eagerly_outside_functions instead.\n",
      "\n",
      "3638/3638 [==============================] - 262s 71ms/step - loss: 0.1875 - accuracy: 0.9108 - val_loss: 0.1262 - val_accuracy: 0.9420 - lr: 0.0010\n",
      "Epoch 2/100\n",
      "3638/3638 [==============================] - 257s 71ms/step - loss: 0.1258 - accuracy: 0.9439 - val_loss: 0.1026 - val_accuracy: 0.9570 - lr: 0.0010\n",
      "Epoch 3/100\n",
      "3638/3638 [==============================] - 260s 72ms/step - loss: 0.1106 - accuracy: 0.9510 - val_loss: 0.0998 - val_accuracy: 0.9582 - lr: 0.0010\n",
      "Epoch 4/100\n",
      "3637/3638 [============================>.] - ETA: 0s - loss: 0.1023 - accuracy: 0.9549"
     ]
    }
   ],
   "source": [
    "# -----------------------------\n",
    "# 3) Clasificador CNN + LSTM\n",
    "#    Tratamos el code (bottleneck) como secuencia 1D: (len=bottleneck, ch=1)\n",
    "# -----------------------------\n",
    "def to_seq(arr):\n",
    "    return arr.reshape((arr.shape[0], arr.shape[1], 1))\n",
    "\n",
    "Ztr_seq = to_seq(Z_train)\n",
    "Zva_seq = to_seq(Z_val)\n",
    "Zte_seq = to_seq(Z_test)\n",
    "\n",
    "seq_len = Ztr_seq.shape[1]\n",
    "\n",
    "inp_seq = layers.Input(shape=(seq_len, 1), name=\"seq_input\")\n",
    "x = layers.Conv1D(filters=64, kernel_size=3, padding=\"same\", activation=\"relu\")(inp_seq)\n",
    "x = layers.MaxPooling1D(pool_size=2)(x)\n",
    "x = layers.Conv1D(filters=128, kernel_size=3, padding=\"same\", activation=\"relu\")(x)\n",
    "x = layers.Dropout(0.3)(x)\n",
    "x = layers.LSTM(64, return_sequences=False)(x)\n",
    "x = layers.Dense(64, activation=\"relu\")(x)\n",
    "x = layers.Dropout(0.3)(x)\n",
    "out = layers.Dense(1, activation=\"sigmoid\")(x)\n",
    "\n",
    "clf = models.Model(inp_seq, out, name=\"cnn_lstm_ddos\")\n",
    "\n",
    "# Class weights para desbalance (0=BENIGN, 1=ATTACK)\n",
    "classes = np.unique(y_train)\n",
    "class_weights = compute_class_weight(class_weight=\"balanced\", classes=classes, y=y_train)\n",
    "class_weight_dict = {int(c): w for c, w in zip(classes, class_weights)}\n",
    "print(\"Class weights:\", class_weight_dict)\n",
    "\n",
    "clf.compile(optimizer=optimizers.Adam(1e-3),\n",
    "            loss=\"binary_crossentropy\",\n",
    "            metrics=[\"accuracy\"])\n",
    "\n",
    "ckpt_clf = callbacks.ModelCheckpoint(\n",
    "    filepath=str(ckpt_dir / \"cnn_lstm_best.keras\"),\n",
    "    save_best_only=True, monitor=\"val_accuracy\", mode=\"max\"\n",
    ")\n",
    "early_clf = callbacks.EarlyStopping(monitor=\"val_accuracy\", patience=10, restore_best_weights=True)\n",
    "reduce_lr  = callbacks.ReduceLROnPlateau(monitor=\"val_loss\", factor=0.5, patience=5, verbose=1)\n",
    "\n",
    "hist_clf = clf.fit(\n",
    "    Ztr_seq, y_train,\n",
    "    validation_data=(Zva_seq, y_val),\n",
    "    epochs=100, batch_size=512,\n",
    "    class_weight=class_weight_dict,\n",
    "    callbacks=[ckpt_clf, early_clf, reduce_lr],\n",
    "    verbose=1\n",
    ")"
   ]
  },
  {
   "cell_type": "code",
   "execution_count": null,
   "id": "c1962752",
   "metadata": {},
   "outputs": [
    {
     "name": "stdout",
     "output_type": "stream",
     "text": [
      "\n",
      "Classification report (Test):\n",
      "              precision    recall  f1-score   support\n",
      "\n",
      "      BENIGN     0.9990    0.9895    0.9942    315737\n",
      "      ATTACK     0.9617    0.9962    0.9786     83320\n",
      "\n",
      "    accuracy                         0.9909    399057\n",
      "   macro avg     0.9803    0.9929    0.9864    399057\n",
      "weighted avg     0.9912    0.9909    0.9910    399057\n",
      "\n",
      "Confusion matrix (Test):\n",
      "[[312428   3309]\n",
      " [   315  83005]]\n",
      "ROC-AUC: 0.99959 | PR-AUC: 0.99841\n"
     ]
    }
   ],
   "source": [
    "# -----------------------------\n",
    "# 4) Evaluación\n",
    "# -----------------------------\n",
    "y_prob = clf.predict(Zte_seq, batch_size=1024, verbose=0).ravel()\n",
    "y_pred = (y_prob >= 0.5).astype(int)\n",
    "\n",
    "print(\"\\nClassification report (Test):\")\n",
    "print(classification_report(y_test, y_pred, digits=4, target_names=[\"BENIGN\",\"ATTACK\"]))\n",
    "\n",
    "print(\"Confusion matrix (Test):\")\n",
    "print(confusion_matrix(y_test, y_pred))\n",
    "\n",
    "try:\n",
    "    roc = roc_auc_score(y_test, y_prob)\n",
    "    pr  = average_precision_score(y_test, y_prob)\n",
    "    print(f\"ROC-AUC: {roc:.5f} | PR-AUC: {pr:.5f}\")\n",
    "except Exception as e:\n",
    "    print(\"AUC calc error:\", e)"
   ]
  },
  {
   "cell_type": "code",
   "execution_count": null,
   "id": "c7a843b3",
   "metadata": {},
   "outputs": [],
   "source": [
    "# -----------------------------\n",
    "# 5) Guardado de artefactos\n",
    "# -----------------------------\n",
    "import joblib\n",
    "joblib.dump(scaler, str(ckpt_dir / \"scaler.pkl\"))\n",
    "encoder.save(str(ckpt_dir / \"encoder_best.keras\"))\n",
    "clf.save(str(ckpt_dir / \"cnn_lstm_best_final.keras\"))"
   ]
  },
  {
   "cell_type": "code",
   "execution_count": null,
   "id": "d27ddbb0",
   "metadata": {},
   "outputs": [],
   "source": [
    "# -----------------------------\n",
    "# 6) Función de inferencia en crudo (DataFrame -> predicción)\n",
    "# -----------------------------\n",
    "def predict_from_df(df_in: pd.DataFrame) -> np.ndarray:\n",
    "    \"\"\"Devuelve probabilidades de ATTACK para un df con mismas columnas.\"\"\"\n",
    "    tmp = df_in.copy()\n",
    "    tmp[\"y\"] = (tmp[\"Attack_Label\"].astype(str) != \"BENIGN\").astype(int) if \"Attack_Label\" in tmp else 0\n",
    "    feats = [c for c in tmp.columns if c not in [\"Attack_Label\",\"y\"]]\n",
    "    Xx = tmp[feats].copy()\n",
    "\n",
    "    # mismo saneamiento que train\n",
    "    for col in [\"Init_Win_bytes_forward\", \"Init_Win_bytes_backward\"]:\n",
    "        if col in Xx.columns:\n",
    "            Xx.loc[Xx[col] < 0, col] = 0\n",
    "    Xx = Xx.replace([np.inf, -np.inf], np.nan)\n",
    "    Xx = Xx.fillna(Xx.median(numeric_only=True))\n",
    "\n",
    "    Xx = scaler.transform(Xx.values)\n",
    "    Zx = encoder.predict(Xx, batch_size=1024, verbose=0).reshape((-1, bottleneck, 1))\n",
    "    p  = clf.predict(Zx, batch_size=1024, verbose=0).ravel()\n",
    "    return p"
   ]
  }
 ],
 "metadata": {
  "kernelspec": {
   "display_name": "Python 3",
   "language": "python",
   "name": "python3"
  },
  "language_info": {
   "codemirror_mode": {
    "name": "ipython",
    "version": 3
   },
   "file_extension": ".py",
   "mimetype": "text/x-python",
   "name": "python",
   "nbconvert_exporter": "python",
   "pygments_lexer": "ipython3",
   "version": "3.10.12"
  }
 },
 "nbformat": 4,
 "nbformat_minor": 5
}
