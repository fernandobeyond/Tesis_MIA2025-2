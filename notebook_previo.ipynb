{
 "cells": [
  {
   "cell_type": "markdown",
   "id": "822ace22",
   "metadata": {},
   "source": [
    "# Pipeline, EDA y Baseline – Dataset "
   ]
  },
  {
   "cell_type": "markdown",
   "id": "627461e2",
   "metadata": {},
   "source": [
    "## 3. Data Pipeline – Carga y diagnóstico inicial"
   ]
  },
  {
   "cell_type": "code",
   "execution_count": 2,
   "id": "81e970a1",
   "metadata": {},
   "outputs": [
    {
     "name": "stdout",
     "output_type": "stream",
     "text": [
      "Shape original: (10200, 16)\n"
     ]
    },
    {
     "data": {
      "text/html": [
       "<div>\n",
       "<style scoped>\n",
       "    .dataframe tbody tr th:only-of-type {\n",
       "        vertical-align: middle;\n",
       "    }\n",
       "\n",
       "    .dataframe tbody tr th {\n",
       "        vertical-align: top;\n",
       "    }\n",
       "\n",
       "    .dataframe thead th {\n",
       "        text-align: right;\n",
       "    }\n",
       "</style>\n",
       "<table border=\"1\" class=\"dataframe\">\n",
       "  <thead>\n",
       "    <tr style=\"text-align: right;\">\n",
       "      <th></th>\n",
       "      <th>feat_0</th>\n",
       "      <th>feat_1</th>\n",
       "      <th>feat_2</th>\n",
       "      <th>feat_3</th>\n",
       "      <th>feat_4</th>\n",
       "      <th>feat_5</th>\n",
       "      <th>feat_6</th>\n",
       "      <th>feat_7</th>\n",
       "      <th>feat_8</th>\n",
       "      <th>feat_9</th>\n",
       "      <th>feat_10</th>\n",
       "      <th>feat_11</th>\n",
       "      <th>feat_12</th>\n",
       "      <th>feat_13</th>\n",
       "      <th>feat_14</th>\n",
       "      <th>Label</th>\n",
       "    </tr>\n",
       "  </thead>\n",
       "  <tbody>\n",
       "    <tr>\n",
       "      <th>0</th>\n",
       "      <td>-0.730621</td>\n",
       "      <td>-0.638483</td>\n",
       "      <td>3.578094</td>\n",
       "      <td>-0.025247452720453426</td>\n",
       "      <td>-4.283558</td>\n",
       "      <td>-0.717140</td>\n",
       "      <td>0.323847</td>\n",
       "      <td>-3.371051</td>\n",
       "      <td>-0.347546</td>\n",
       "      <td>-0.386261</td>\n",
       "      <td>0.819342</td>\n",
       "      <td>-2.388001</td>\n",
       "      <td>-0.709648</td>\n",
       "      <td>-1.616837</td>\n",
       "      <td>0.547777</td>\n",
       "      <td>BENIGN</td>\n",
       "    </tr>\n",
       "    <tr>\n",
       "      <th>1</th>\n",
       "      <td>4.959196</td>\n",
       "      <td>-3.391494</td>\n",
       "      <td>3.968273</td>\n",
       "      <td>0.12142403922209358</td>\n",
       "      <td>-1.931278</td>\n",
       "      <td>1.753689</td>\n",
       "      <td>-10.997242</td>\n",
       "      <td>-15.375493</td>\n",
       "      <td>-0.194716</td>\n",
       "      <td>0.915298</td>\n",
       "      <td>1.371141</td>\n",
       "      <td>NaN</td>\n",
       "      <td>2.299849</td>\n",
       "      <td>-0.735320</td>\n",
       "      <td>0.569831</td>\n",
       "      <td>DDoS</td>\n",
       "    </tr>\n",
       "    <tr>\n",
       "      <th>2</th>\n",
       "      <td>0.488056</td>\n",
       "      <td>-1.771621</td>\n",
       "      <td>4.327884</td>\n",
       "      <td>0.41213440840153587</td>\n",
       "      <td>-4.124558</td>\n",
       "      <td>2.451466</td>\n",
       "      <td>-5.272494</td>\n",
       "      <td>-10.597385</td>\n",
       "      <td>-0.188875</td>\n",
       "      <td>0.274764</td>\n",
       "      <td>1.704190</td>\n",
       "      <td>0.276370</td>\n",
       "      <td>-1.172553</td>\n",
       "      <td>-2.569758</td>\n",
       "      <td>-1.352782</td>\n",
       "      <td>DDoS</td>\n",
       "    </tr>\n",
       "    <tr>\n",
       "      <th>3</th>\n",
       "      <td>1.486163</td>\n",
       "      <td>2.201335</td>\n",
       "      <td>-0.091820</td>\n",
       "      <td>NaN</td>\n",
       "      <td>1.039583</td>\n",
       "      <td>0.468265</td>\n",
       "      <td>1.079163</td>\n",
       "      <td>2.713675</td>\n",
       "      <td>0.768702</td>\n",
       "      <td>0.390271</td>\n",
       "      <td>-0.119412</td>\n",
       "      <td>2.506558</td>\n",
       "      <td>-3.394132</td>\n",
       "      <td>-1.635494</td>\n",
       "      <td>6.409759</td>\n",
       "      <td>DDoS</td>\n",
       "    </tr>\n",
       "    <tr>\n",
       "      <th>4</th>\n",
       "      <td>-86.185586</td>\n",
       "      <td>-1.686094</td>\n",
       "      <td>0.374105</td>\n",
       "      <td>-0.03302396496523568</td>\n",
       "      <td>NaN</td>\n",
       "      <td>-1.471667</td>\n",
       "      <td>6.315290</td>\n",
       "      <td>0.574439</td>\n",
       "      <td>0.109119</td>\n",
       "      <td>0.924096</td>\n",
       "      <td>3.224020</td>\n",
       "      <td>-2.793702</td>\n",
       "      <td>-4.630804</td>\n",
       "      <td>-2.140376</td>\n",
       "      <td>-3.175062</td>\n",
       "      <td>DDoS</td>\n",
       "    </tr>\n",
       "  </tbody>\n",
       "</table>\n",
       "</div>"
      ],
      "text/plain": [
       "      feat_0    feat_1    feat_2                 feat_3    feat_4    feat_5  \\\n",
       "0  -0.730621 -0.638483  3.578094  -0.025247452720453426 -4.283558 -0.717140   \n",
       "1   4.959196 -3.391494  3.968273    0.12142403922209358 -1.931278  1.753689   \n",
       "2   0.488056 -1.771621  4.327884    0.41213440840153587 -4.124558  2.451466   \n",
       "3   1.486163  2.201335 -0.091820                    NaN  1.039583  0.468265   \n",
       "4 -86.185586 -1.686094  0.374105   -0.03302396496523568       NaN -1.471667   \n",
       "\n",
       "      feat_6     feat_7    feat_8    feat_9   feat_10   feat_11   feat_12  \\\n",
       "0   0.323847  -3.371051 -0.347546 -0.386261  0.819342 -2.388001 -0.709648   \n",
       "1 -10.997242 -15.375493 -0.194716  0.915298  1.371141       NaN  2.299849   \n",
       "2  -5.272494 -10.597385 -0.188875  0.274764  1.704190  0.276370 -1.172553   \n",
       "3   1.079163   2.713675  0.768702  0.390271 -0.119412  2.506558 -3.394132   \n",
       "4   6.315290   0.574439  0.109119  0.924096  3.224020 -2.793702 -4.630804   \n",
       "\n",
       "    feat_13   feat_14   Label  \n",
       "0 -1.616837  0.547777  BENIGN  \n",
       "1 -0.735320  0.569831    DDoS  \n",
       "2 -2.569758 -1.352782    DDoS  \n",
       "3 -1.635494  6.409759    DDoS  \n",
       "4 -2.140376 -3.175062    DDoS  "
      ]
     },
     "metadata": {},
     "output_type": "display_data"
    },
    {
     "name": "stdout",
     "output_type": "stream",
     "text": [
      "\n",
      "Nulos totales: 8170\n",
      "Duplicados: 196\n"
     ]
    }
   ],
   "source": [
    "\n",
    "import pandas as pd, seaborn as sns, matplotlib.pyplot as plt, numpy as np\n",
    "sns.set(style=\"whitegrid\")\n",
    "\n",
    "PATH = \"dataset_limpio_telcom.csv\"\n",
    "df = pd.read_csv(PATH)\n",
    "print(\"Shape original:\", df.shape)\n",
    "display(df.head())\n",
    "\n",
    "print(\"\\nNulos totales:\", df.isna().sum().sum())\n",
    "print(\"Duplicados:\", df.duplicated().sum())\n"
   ]
  },
  {
   "cell_type": "markdown",
   "id": "793c2b1c",
   "metadata": {},
   "source": [
    "### 3.1 Limpieza paso a paso"
   ]
  },
  {
   "cell_type": "code",
   "execution_count": 2,
   "id": "de54c9e9",
   "metadata": {},
   "outputs": [
    {
     "name": "stdout",
     "output_type": "stream",
     "text": [
      "Shape tras limpieza: (10004, 16)\n",
      "Nulos restantes: 0\n"
     ]
    },
    {
     "name": "stderr",
     "output_type": "stream",
     "text": [
      "C:\\Users\\Josef\\AppData\\Local\\Temp\\ipykernel_9656\\2574131984.py:18: FutureWarning: A value is trying to be set on a copy of a DataFrame or Series through chained assignment using an inplace method.\n",
      "The behavior will change in pandas 3.0. This inplace method will never work because the intermediate object on which we are setting values always behaves as a copy.\n",
      "\n",
      "For example, when doing 'df[col].method(value, inplace=True)', try using 'df.method({col: value}, inplace=True)' or df[col] = df[col].method(value) instead, to perform the operation inplace on the original object.\n",
      "\n",
      "\n",
      "  df[c].fillna(df[c].median(), inplace=True)\n"
     ]
    }
   ],
   "source": [
    "\n",
    "from sklearn.impute import SimpleImputer\n",
    "\n",
    "# 1) Coerción numérica (strings→NaN)\n",
    "num_cols = [c for c in df.columns if c.startswith('feat_')]\n",
    "df[num_cols] = df[num_cols].apply(pd.to_numeric, errors='coerce')\n",
    "\n",
    "# 2) Normalizar + mapear Label\n",
    "df['Label'] = (df['Label'].astype(str)\n",
    "                          .str.strip()\n",
    "                          .str.upper()\n",
    "                          .map({'BENIGN':0, 'DDOS':1}))\n",
    "\n",
    "# 3) Eliminar duplicados\n",
    "df.drop_duplicates(inplace=True)\n",
    "\n",
    "# 4) Imputar nulos numéricos con mediana\n",
    "for c in num_cols:\n",
    "    df[c].fillna(df[c].median(), inplace=True)\n",
    "\n",
    "# 5) Outlier capping en feat_0 (p1–p99)\n",
    "q1, q99 = df['feat_0'].quantile([0.01,0.99])\n",
    "df['feat_0'] = df['feat_0'].clip(q1, q99)\n",
    "\n",
    "# 6) Re‑coerción final + imputer de seguridad\n",
    "obj_cols = df.select_dtypes(include='object').columns\n",
    "for c in obj_cols:\n",
    "    df[c] = pd.to_numeric(df[c], errors='coerce')\n",
    "\n",
    "df[df.columns] = SimpleImputer(strategy='median').fit_transform(df)\n",
    "\n",
    "print(\"Shape tras limpieza:\", df.shape)\n",
    "print(\"Nulos restantes:\", df.isna().sum().sum())\n"
   ]
  },
  {
   "cell_type": "markdown",
   "id": "7c9b2586",
   "metadata": {},
   "source": [
    "## 4. EDA Rápido"
   ]
  },
  {
   "cell_type": "code",
   "execution_count": 3,
   "id": "4c037785",
   "metadata": {},
   "outputs": [
    {
     "data": {
      "image/png": "[encoded data removed]",
      "text/plain": [
       "<Figure size 400x300 with 1 Axes>"
      ]
     },
     "metadata": {},
     "output_type": "display_data"
    },
    {
     "data": {
      "image/png": "[encoded data removed]",
      "text/plain": [
       "<Figure size 900x300 with 4 Axes>"
      ]
     },
     "metadata": {},
     "output_type": "display_data"
    },
    {
     "data": {
      "image/png": "[encoded data removed]",
      "text/plain": [
       "<Figure size 700x500 with 2 Axes>"
      ]
     },
     "metadata": {},
     "output_type": "display_data"
    }
   ],
   "source": [
    "\n",
    "# Distribución del target\n",
    "plt.figure(figsize=(4,3))\n",
    "sns.countplot(x='Label', data=df)\n",
    "plt.title('Distribución de clases')\n",
    "plt.show()\n",
    "\n",
    "# Histogramas de tres features\n",
    "df[['feat_0','feat_1','feat_2']].hist(figsize=(9,3), bins=30)\n",
    "plt.tight_layout()\n",
    "plt.show()\n",
    "\n",
    "# Heatmap de correlación (subset)\n",
    "corr = df[[f'feat_{i}' for i in range(6)] + ['Label']].corr()\n",
    "plt.figure(figsize=(7,5))\n",
    "sns.heatmap(corr, cmap='coolwarm', annot=False)\n",
    "plt.title('Correlaciones (feat_0–feat_5)')\n",
    "plt.show()\n"
   ]
  },
  {
   "cell_type": "markdown",
   "id": "df8698e2",
   "metadata": {},
   "source": [
    "*Observaciones:* Dataset ahora libre de nulos, outliers de `feat_0` moderados, ligero desbalance de clases."
   ]
  },
  {
   "cell_type": "markdown",
   "id": "e0081152",
   "metadata": {},
   "source": [
    "## 5. Modelo Baseline"
   ]
  },
  {
   "cell_type": "code",
   "execution_count": 11,
   "id": "7857fb19",
   "metadata": {},
   "outputs": [
    {
     "data": {
      "text/html": [
       "<div>\n",
       "<style scoped>\n",
       "    .dataframe tbody tr th:only-of-type {\n",
       "        vertical-align: middle;\n",
       "    }\n",
       "\n",
       "    .dataframe tbody tr th {\n",
       "        vertical-align: top;\n",
       "    }\n",
       "\n",
       "    .dataframe thead th {\n",
       "        text-align: right;\n",
       "    }\n",
       "</style>\n",
       "<table border=\"1\" class=\"dataframe\">\n",
       "  <thead>\n",
       "    <tr style=\"text-align: right;\">\n",
       "      <th></th>\n",
       "      <th>Accuracy_mean</th>\n",
       "      <th>Accuracy_std</th>\n",
       "      <th>F1_mean</th>\n",
       "      <th>F1_std</th>\n",
       "    </tr>\n",
       "  </thead>\n",
       "  <tbody>\n",
       "    <tr>\n",
       "      <th>LogReg</th>\n",
       "      <td>0.826</td>\n",
       "      <td>0.007</td>\n",
       "      <td>0.761</td>\n",
       "      <td>0.007</td>\n",
       "    </tr>\n",
       "    <tr>\n",
       "      <th>KNN</th>\n",
       "      <td>0.917</td>\n",
       "      <td>0.007</td>\n",
       "      <td>0.891</td>\n",
       "      <td>0.009</td>\n",
       "    </tr>\n",
       "    <tr>\n",
       "      <th>RF</th>\n",
       "      <td>0.908</td>\n",
       "      <td>0.007</td>\n",
       "      <td>0.877</td>\n",
       "      <td>0.010</td>\n",
       "    </tr>\n",
       "    <tr>\n",
       "      <th>GB</th>\n",
       "      <td>0.882</td>\n",
       "      <td>0.006</td>\n",
       "      <td>0.843</td>\n",
       "      <td>0.008</td>\n",
       "    </tr>\n",
       "    <tr>\n",
       "      <th>AdaBoost</th>\n",
       "      <td>0.818</td>\n",
       "      <td>0.004</td>\n",
       "      <td>0.752</td>\n",
       "      <td>0.005</td>\n",
       "    </tr>\n",
       "    <tr>\n",
       "      <th>SVM</th>\n",
       "      <td>0.927</td>\n",
       "      <td>0.007</td>\n",
       "      <td>0.905</td>\n",
       "      <td>0.009</td>\n",
       "    </tr>\n",
       "  </tbody>\n",
       "</table>\n",
       "</div>"
      ],
      "text/plain": [
       "          Accuracy_mean  Accuracy_std  F1_mean  F1_std\n",
       "LogReg            0.826         0.007    0.761   0.007\n",
       "KNN               0.917         0.007    0.891   0.009\n",
       "RF                0.908         0.007    0.877   0.010\n",
       "GB                0.882         0.006    0.843   0.008\n",
       "AdaBoost          0.818         0.004    0.752   0.005\n",
       "SVM               0.927         0.007    0.905   0.009"
      ]
     },
     "metadata": {},
     "output_type": "display_data"
    }
   ],
   "source": [
    "\n",
    "from sklearn.model_selection import StratifiedKFold, cross_validate\n",
    "from sklearn.preprocessing import StandardScaler\n",
    "from sklearn.pipeline import Pipeline\n",
    "from sklearn.linear_model import LogisticRegression\n",
    "from sklearn.neighbors import KNeighborsClassifier\n",
    "from sklearn.ensemble import RandomForestClassifier, GradientBoostingClassifier, AdaBoostClassifier\n",
    "from sklearn.svm import SVC\n",
    "\n",
    "X = df.drop(columns=['Label'])\n",
    "y = df['Label']\n",
    "\n",
    "models = {\n",
    "    \"LogReg\": Pipeline([\n",
    "        (\"scaler\", StandardScaler()),\n",
    "        (\"clf\", LogisticRegression(max_iter=1000, n_jobs=-1))\n",
    "    ]),\n",
    "    \"KNN\": Pipeline([\n",
    "        (\"scaler\", StandardScaler()),\n",
    "        (\"clf\", KNeighborsClassifier(n_neighbors=5))\n",
    "    ]),\n",
    "    \"RF\": Pipeline([\n",
    "        (\"scaler\", StandardScaler()),\n",
    "        (\"clf\", RandomForestClassifier(n_estimators=300, random_state=42, n_jobs=-1))\n",
    "    ]),\n",
    "    \"GB\": GradientBoostingClassifier(random_state=42),\n",
    "    \"AdaBoost\": AdaBoostClassifier(random_state=42),\n",
    "    \"SVM\": Pipeline([\n",
    "        (\"scaler\", StandardScaler()),\n",
    "        (\"clf\", SVC(kernel=\"rbf\", probability=True, random_state=42))\n",
    "    ])\n",
    "}\n",
    "\n",
    "skf = StratifiedKFold(n_splits=5, shuffle=True, random_state=42)\n",
    "\n",
    "scores_summary = {}\n",
    "for name, model in models.items():\n",
    "    cv = cross_validate(\n",
    "        model,\n",
    "        X, y,\n",
    "        cv=skf,\n",
    "        scoring={'accuracy': 'accuracy', 'f1': 'f1'},\n",
    "        n_jobs=-1,\n",
    "        return_train_score=False,\n",
    "    )\n",
    "    scores_summary[name] = {\n",
    "        \"Accuracy_mean\": cv[\"test_accuracy\"].mean(),\n",
    "        \"Accuracy_std\": cv[\"test_accuracy\"].std(ddof=1),\n",
    "        \"F1_mean\": cv[\"test_f1\"].mean(),\n",
    "        \"F1_std\": cv[\"test_f1\"].std(ddof=1),\n",
    "    }\n",
    "\n",
    "import pandas as pd, numpy as np\n",
    "res = pd.DataFrame(scores_summary).T\n",
    "res[\"Accuracy_mean\"] = res[\"Accuracy_mean\"].round(3)\n",
    "res[\"Accuracy_std\"] = res[\"Accuracy_std\"].round(3)\n",
    "res[\"F1_mean\"] = res[\"F1_mean\"].round(3)\n",
    "res[\"F1_std\"] = res[\"F1_std\"].round(3)\n",
    "\n",
    "display(res[[\"Accuracy_mean\", \"Accuracy_std\", \"F1_mean\", \"F1_std\"]])"
   ]
  }
 ],
 "metadata": {
  "kernelspec": {
   "display_name": "Python 3",
   "language": "python",
   "name": "python3"
  },
  "language_info": {
   "codemirror_mode": {
    "name": "ipython",
    "version": 3
   },
   "file_extension": ".py",
   "mimetype": "text/x-python",
   "name": "python",
   "nbconvert_exporter": "python",
   "pygments_lexer": "ipython3",
   "version": "3.11.4"
  }
 },
 "nbformat": 4,
 "nbformat_minor": 5
}
